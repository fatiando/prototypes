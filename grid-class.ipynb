{
 "metadata": {
  "name": "",
  "signature": "sha256:51cd725b27263ced622bb93a6c97024b5878b060ac135286e972bb8a91d92f16"
 },
 "nbformat": 3,
 "nbformat_minor": 0,
 "worksheets": [
  {
   "cells": [
    {
     "cell_type": "markdown",
     "metadata": {},
     "source": [
      "To install cartopy:\n",
      "\n",
      "    conda install cartopy -c rsignell"
     ]
    },
    {
     "cell_type": "code",
     "collapsed": false,
     "input": [
      "%matplotlib inline\n",
      "from __future__ import division\n",
      "from fatiando import gridder\n",
      "from fatiando.vis import mpl\n",
      "from fatiando import utils\n",
      "import fatiando\n",
      "from mpl_toolkits.basemap import Basemap\n",
      "import matplotlib.pyplot as plt\n",
      "import numpy as np\n",
      "import scipy.interpolate"
     ],
     "language": "python",
     "metadata": {},
     "outputs": [],
     "prompt_number": 83
    },
    {
     "cell_type": "code",
     "collapsed": false,
     "input": [
      "import cartopy.crs as crs\n",
      "import cartopy.feature as cf"
     ],
     "language": "python",
     "metadata": {},
     "outputs": [
      {
       "ename": "ImportError",
       "evalue": "No module named cartopy.crs",
       "output_type": "pyerr",
       "traceback": [
        "\u001b[1;31m---------------------------------------------------------------------------\u001b[0m\n\u001b[1;31mImportError\u001b[0m                               Traceback (most recent call last)",
        "\u001b[1;32m<ipython-input-7-2f108038ca49>\u001b[0m in \u001b[0;36m<module>\u001b[1;34m()\u001b[0m\n\u001b[1;32m----> 1\u001b[1;33m \u001b[1;32mimport\u001b[0m \u001b[0mcartopy\u001b[0m\u001b[1;33m.\u001b[0m\u001b[0mcrs\u001b[0m \u001b[1;32mas\u001b[0m \u001b[0mcrs\u001b[0m\u001b[1;33m\u001b[0m\u001b[0m\n\u001b[0m\u001b[0;32m      2\u001b[0m \u001b[1;32mimport\u001b[0m \u001b[0mcartopy\u001b[0m\u001b[1;33m.\u001b[0m\u001b[0mfeature\u001b[0m \u001b[1;32mas\u001b[0m \u001b[0mcf\u001b[0m\u001b[1;33m\u001b[0m\u001b[0m\n",
        "\u001b[1;31mImportError\u001b[0m: No module named cartopy.crs"
       ]
      }
     ],
     "prompt_number": 7
    },
    {
     "cell_type": "code",
     "collapsed": false,
     "input": [
      "fatiando.__version__"
     ],
     "language": "python",
     "metadata": {},
     "outputs": [
      {
       "metadata": {},
       "output_type": "pyout",
       "prompt_number": 8,
       "text": [
        "'0.2-199-ge49e9de'"
       ]
      }
     ],
     "prompt_number": 8
    },
    {
     "cell_type": "code",
     "collapsed": false,
     "input": [
      "class Grid(object):\n",
      "    _coord_names = ['x', 'y', 'lon', 'long', 'longitude', 'lat', 'latitude']\n",
      "    \n",
      "    def __init__(self, **kwargs):\n",
      "        kwargs = dict((k.lower(), v) for k, v in kwargs.iteritems())\n",
      "        for k, v in kwargs.iteritems():\n",
      "            if k not in ['shape', 'projection']:\n",
      "                v = np.asarray(v).ravel()\n",
      "            setattr(self, k, v)\n",
      "        if 'shape' not in kwargs:\n",
      "            self.shape = None\n",
      "        if 'lon' in kwargs:\n",
      "            self.x = self.lon\n",
      "        if 'lat' in kwargs:\n",
      "            self.y = self.lat\n",
      "        if 'projection' not in kwargs:\n",
      "            self.projection = None\n",
      "        not_attributes = set(self._coord_names + ['shape', 'projection'])\n",
      "        self._attributes = list(set(kwargs.keys()).difference(not_attributes))\n",
      "        \n",
      "    def add_attribute(self, name, value):\n",
      "        setattr(self, name.lower(), np.asarray(value).ravel())\n",
      "        self._attributes.append(name)\n",
      "        return self\n",
      "        \n",
      "    @staticmethod\n",
      "    def regular(area, shape, z=None, lonlat=False):\n",
      "        ny, nx = shape\n",
      "        x1, x2, y1, y2 = area\n",
      "        x, y = np.meshgrid(np.linspace(x1, x2, nx), np.linspace(y1, y2, ny))\n",
      "        args = dict(x=x, y=y, shape=shape)\n",
      "        if lonlat:\n",
      "            args['lon'] = x\n",
      "            args['lat'] = y\n",
      "        if z is not None:\n",
      "            args['z'] = z*np.ones_like(x)\n",
      "        return Grid(**args)\n",
      "    \n",
      "    @staticmethod\n",
      "    def scatter(area, n, z=None, lonlat=False, seed=None):\n",
      "        coords = gridder.scatter(area, n, z, seed)\n",
      "        x, y = coords[0], coords[1]\n",
      "        args = dict(x=x, y=y, shape=None)\n",
      "        if len(coords) == 3:\n",
      "            args['z'] = coords[3]\n",
      "        if lonlat:\n",
      "            args['lon'] = x\n",
      "            args['lat'] = y\n",
      "        return Grid(**args)\n",
      "            \n",
      "    @property\n",
      "    def area(self):\n",
      "        return (self.x.min(), self.x.max(), self.y.min(), self.y.max())\n",
      "    \n",
      "    @property\n",
      "    def size(self):\n",
      "        return len(self.x)\n",
      "    \n",
      "    def interp_at(self, x, y, attribute=None, algorithm='cubic', extrapolate=False):\n",
      "        if attribute is None:\n",
      "            attribute = self._attributes\n",
      "        elif isinstance(attribute, str):\n",
      "            attribute = [attribute]\n",
      "        args = dict(x=x, y=y, projection=self.projection)\n",
      "        for k in attribute:\n",
      "            args[k] = gridder.interp_at(self.x, self.y, getattr(self, k), x, y, algorithm, extrapolate)\n",
      "        return self.__class__(**args)\n",
      "    \n",
      "    def interp(self, shape, attribute=None, area=None, algorithm='cubic', extrapolate=False):\n",
      "        ny, nx = shape\n",
      "        if area is None:\n",
      "            area = self.area\n",
      "        x1, x2, y1, y2 = area\n",
      "        xs = np.linspace(x1, x2, nx)\n",
      "        ys = np.linspace(y1, y2, ny)\n",
      "        xp, yp = [i.ravel() for i in np.meshgrid(xs, ys)]\n",
      "        grid = self.interp_at(xp, yp, attribute, algorithm=algorithm, extrapolate=extrapolate)\n",
      "        grid.shape = shape\n",
      "        return grid\n",
      "        \n",
      "    def set_projection(self, proj):\n",
      "        self.projection = proj\n",
      "        return self\n",
      "        \n",
      "    def reproject(self, target_proj):\n",
      "        if self.projection is None:\n",
      "            raise AttributeError('Call .set_projection to specify the grid projection first.')            \n",
      "        x, y = target_proj.transform_points(self.projection, self.x, self.y).T[:2]\n",
      "        return self.__class__(x=x, y=y, projection=target_proj, shape=self.shape, \n",
      "                              **dict((k, getattr(self, k)) for k in self._attributes))\n",
      "        \n",
      "    def contourf(self, attribute, levels=10, autoranges=True, colorbar='vertical', ax=None, basemap=None, **kwargs):\n",
      "        values = getattr(self, attribute).reshape(self.shape)\n",
      "        vmax, vmin = np.nanmax(values), np.nanmin(values)\n",
      "        if vmax <= 0 or vmin >= 0:\n",
      "            diverging = False\n",
      "        else:\n",
      "            diverging = True\n",
      "        if autoranges and diverging and not any(k in kwargs for k in ['vmin', 'vmax']):\n",
      "            absmax = np.abs([vmax, vmin]).max()\n",
      "            kwargs['vmin'] = -absmax\n",
      "            kwargs['vmax'] = absmax            \n",
      "        if 'cmap' not in kwargs:\n",
      "            if diverging:\n",
      "                kwargs['cmap'] = mpl.cm.RdBu_r\n",
      "            else:\n",
      "                kwargs['cmap'] = mpl.cm.Reds\n",
      "        if ax is None:\n",
      "            if self.projection is None:\n",
      "                ax = mpl.gca()\n",
      "            else:\n",
      "                ax = mpl.axes(projection=self.projection)\n",
      "        X, Y = self.x.reshape(self.shape), self.y.reshape(self.shape)\n",
      "        if basemap is not None:\n",
      "            X, Y = basemap(X, Y)\n",
      "            plot = basemap.contourf(X, Y, values, levels, **kwargs)\n",
      "        else:\n",
      "            plot = ax.contourf(X, Y, values, levels, transform=self.projection, **kwargs)\n",
      "        if colorbar is not None:\n",
      "            mpl.colorbar(plot, orientation=colorbar, pad=0, aspect=30)\n",
      "        return plot\n",
      "    \n",
      "    def points(self, style='.k', ax=None, **kwargs):\n",
      "        if ax is None:\n",
      "            if self.projection is None:\n",
      "                ax = mpl.gca()\n",
      "            else:\n",
      "                ax = mpl.axes(projection=self.projection)\n",
      "        if self.projection is not None:\n",
      "            kwargs['transform'] = self.projection\n",
      "        plot = ax.plot(self.x, self.y, style, **kwargs)\n",
      "        return plot\n",
      "        "
     ],
     "language": "python",
     "metadata": {},
     "outputs": [],
     "prompt_number": 142
    },
    {
     "cell_type": "code",
     "collapsed": false,
     "input": [
      "g = Grid.scatter((-180, 180, -90, 90), 200, seed=0)\n",
      "g.add_attribute('linear', 10 + utils.gaussian2d(g.x, g.y, 100, 20))"
     ],
     "language": "python",
     "metadata": {},
     "outputs": [
      {
       "metadata": {},
       "output_type": "pyout",
       "prompt_number": 158,
       "text": [
        "<__main__.Grid at 0x7f43b35769d0>"
       ]
      }
     ],
     "prompt_number": 158
    },
    {
     "cell_type": "code",
     "collapsed": false,
     "input": [
      "g.interp((50, 50)).contourf('linear')\n",
      "g.points()"
     ],
     "language": "python",
     "metadata": {},
     "outputs": [
      {
       "metadata": {},
       "output_type": "pyout",
       "prompt_number": 159,
       "text": [
        "[<matplotlib.lines.Line2D at 0x7f43b37b52d0>]"
       ]
      },
      {
       "metadata": {},
       "output_type": "display_data",
       "png": "[encoded data removed]",
       "text": [
        "<matplotlib.figure.Figure at 0x7f43b39b63d0>"
       ]
      }
     ],
     "prompt_number": 159
    },
    {
     "cell_type": "code",
     "collapsed": false,
     "input": [
      "g = Grid.regular((-180, 180, -90, 90), (50, 50))\n",
      "g.add_attribute('divergent', utils.gaussian2d(g.x, g.y, 100, 20) - 2*utils.gaussian2d(g.x, g.y, 20, 100))"
     ],
     "language": "python",
     "metadata": {},
     "outputs": [
      {
       "metadata": {},
       "output_type": "pyout",
       "prompt_number": 160,
       "text": [
        "<__main__.Grid at 0x7f43b33ae310>"
       ]
      }
     ],
     "prompt_number": 160
    },
    {
     "cell_type": "code",
     "collapsed": false,
     "input": [
      "g.contourf('divergent', 40)"
     ],
     "language": "python",
     "metadata": {},
     "outputs": [
      {
       "metadata": {},
       "output_type": "pyout",
       "prompt_number": 161,
       "text": [
        "<matplotlib.contour.QuadContourSet instance at 0x7f43b32a8d88>"
       ]
      },
      {
       "metadata": {},
       "output_type": "display_data",
       "png": "[encoded data removed]",
       "text": [
        "<matplotlib.figure.Figure at 0x7f43b331a390>"
       ]
      }
     ],
     "prompt_number": 161
    },
    {
     "cell_type": "code",
     "collapsed": false,
     "input": [
      "g.reproject(crs.Mollweide()).contourf('data')"
     ],
     "language": "python",
     "metadata": {},
     "outputs": [
      {
       "metadata": {},
       "output_type": "pyout",
       "prompt_number": 90,
       "text": [
        "(<matplotlib.axes._subplots.GeoAxesSubplot at 0x7f7b8435d610>,\n",
        " <matplotlib.contour.QuadContourSet instance at 0x7f7b83ff1e18>)"
       ]
      },
      {
       "metadata": {},
       "output_type": "display_data",
       "png": "[encoded data removed]",
       "text": [
        "<matplotlib.figure.Figure at 0x7f7b84346050>"
       ]
      }
     ],
     "prompt_number": 90
    }
   ],
   "metadata": {}
  }
 ]
}