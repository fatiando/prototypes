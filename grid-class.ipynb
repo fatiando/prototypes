{
 "metadata": {
  "name": "",
  "signature": "sha256:ea57f81cb202330cd3256d0bdf220304b5007b6c27de906d0af2d171c673305d"
 },
 "nbformat": 3,
 "nbformat_minor": 0,
 "worksheets": [
  {
   "cells": [
    {
     "cell_type": "code",
     "collapsed": false,
     "input": [
      "%matplotlib inline\n",
      "from __future__ import division\n",
      "from fatiando import gridder\n",
      "from fatiando.vis import mpl\n",
      "from fatiando import utils\n",
      "import fatiando\n",
      "import cartopy.crs as crs\n",
      "import cartopy.feature as cf\n",
      "from mpl_toolkits.basemap import Basemap\n",
      "import matplotlib.pyplot as plt\n",
      "import numpy as np"
     ],
     "language": "python",
     "metadata": {},
     "outputs": [],
     "prompt_number": 1
    },
    {
     "cell_type": "code",
     "collapsed": false,
     "input": [
      "fatiando.__version__"
     ],
     "language": "python",
     "metadata": {},
     "outputs": [
      {
       "metadata": {},
       "output_type": "pyout",
       "prompt_number": 2,
       "text": [
        "'0.2-178-g5041c6b'"
       ]
      }
     ],
     "prompt_number": 2
    },
    {
     "cell_type": "code",
     "collapsed": false,
     "input": [
      "class Grid(object):\n",
      "    _coord_names = ['x', 'y', 'lon', 'long', 'longitude', 'lat', 'latitude']\n",
      "    \n",
      "    def __init__(self, **kwargs):\n",
      "        kwargs = dict((k.lower(), v) for k, v in kwargs.iteritems())\n",
      "        for k, v in kwargs.iteritems():\n",
      "            if k not in ['shape', 'projection']:\n",
      "                v = np.asarray(v).ravel()\n",
      "            setattr(self, k, v)\n",
      "        if 'shape' not in kwargs:\n",
      "            self.shape = None\n",
      "        if 'lon' in kwargs:\n",
      "            self.x = self.lon\n",
      "        if 'lat' in kwargs:\n",
      "            self.y = self.lat\n",
      "        if 'projection' not in kwargs:\n",
      "            self.projection = None\n",
      "        self._attributes = kwargs.keys()\n",
      "        if self.shape is not None:\n",
      "            self.X = self.x.reshape(self.shape)\n",
      "            self.Y = self.y.reshape(self.shape)\n",
      "        \n",
      "    def set_projection(self, proj):\n",
      "        self.projection = proj\n",
      "        return self\n",
      "        \n",
      "    def project(self, target_proj):\n",
      "        if self.projection is None:\n",
      "            raise AttributeError('Call .set_projection to specify the grid projection first.')\n",
      "        x, y = target_proj.transform_points(self.projection, self.x, self.y).T[:2]\n",
      "        keys = [k for k in self._attributes if k not in self._coord_names + ['projection']]\n",
      "        return self.__class__(x=x, y=y, projection=target_proj, **dict((k, getattr(self, k)) for k in keys))\n",
      "        \n",
      "    def contourf(self, attribute, ncontours=None, autoranges=True, colorbar='vertical', ax=None, **kwargs):\n",
      "        values = getattr(self, attribute)\n",
      "        vmax, vmin = values.max(), values.min()\n",
      "        if vmax <= 0 or vmin >= 0:\n",
      "            diverging = False\n",
      "        else:\n",
      "            diverging = True\n",
      "        if autoranges and diverging and not any(k in kwargs for k in ['vmin', 'vmax']):\n",
      "            absmax = np.abs([vmax, vmin]).max()\n",
      "            kwargs['vmin'] = -absmax\n",
      "            kwargs['vmax'] = absmax            \n",
      "        if 'cmap' not in kwargs:\n",
      "            if diverging:\n",
      "                kwargs['cmap'] = mpl.cm.RdBu_r\n",
      "            else:\n",
      "                kwargs['cmap'] = mpl.cm.Reds\n",
      "        if ax is None:\n",
      "            if self.projection is None:\n",
      "                ax = mpl.gca()\n",
      "            else:\n",
      "                ax = mpl.axes(projection=self.projection)\n",
      "        args = [self.X, self.Y, values.reshape(self.shape)]\n",
      "        if ncontours is not None:\n",
      "            args.append(ncontours)\n",
      "        plot = ax.contourf(*args, transform=self.projection, **kwargs)\n",
      "        if colorbar is not None:\n",
      "            mpl.colorbar(plot, orientation=colorbar, pad=0, aspect=30)\n",
      "        return ax, plot"
     ],
     "language": "python",
     "metadata": {},
     "outputs": [],
     "prompt_number": 81
    },
    {
     "cell_type": "code",
     "collapsed": false,
     "input": [
      "x, y = gridder.regular((-180, 180, -90, 90), (50, 50))\n",
      "z = utils.gaussian2d(x, y, 100, 20)\n",
      "\n",
      "g = Grid(lon=x.tolist(), Lat=y, datA=z, shape=(50, 50)).set_projection(crs.Geodetic())"
     ],
     "language": "python",
     "metadata": {},
     "outputs": [],
     "prompt_number": 82
    },
    {
     "cell_type": "code",
     "collapsed": false,
     "input": [
      "g.project(crs.Mollweide()).contourf('data')"
     ],
     "language": "python",
     "metadata": {},
     "outputs": [
      {
       "metadata": {},
       "output_type": "pyout",
       "prompt_number": 90,
       "text": [
        "(<matplotlib.axes._subplots.GeoAxesSubplot at 0x7f7b8435d610>,\n",
        " <matplotlib.contour.QuadContourSet instance at 0x7f7b83ff1e18>)"
       ]
      },
      {
       "metadata": {},
       "output_type": "display_data",
       "png": "[encoded data removed]",
       "text": [
        "<matplotlib.figure.Figure at 0x7f7b84346050>"
       ]
      }
     ],
     "prompt_number": 90
    }
   ],
   "metadata": {}
  }
 ]
}