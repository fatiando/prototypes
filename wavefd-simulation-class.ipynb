{
 "metadata": {
  "name": "",
  "signature": "sha256:d38a1b5050d0b2f5884ec9982b04f1bde512af2a83f71193ccddb36e0cd8ceb0"
 },
 "nbformat": 3,
 "nbformat_minor": 0,
 "worksheets": [
  {
   "cells": [
    {
     "cell_type": "code",
     "collapsed": false,
     "input": [
      "import numpy as np\n",
      "import sys\n",
      "from IPython.display import Image\n",
      "from matplotlib import animation\n",
      "from fatiando import utils\n",
      "from fatiando.seismic import wavefd\n",
      "from fatiando.gravmag import prism\n",
      "from fatiando.mesher import PrismMesh\n",
      "from fatiando.vis import mpl, myv\n",
      "import h5py"
     ],
     "language": "python",
     "metadata": {},
     "outputs": [],
     "prompt_number": 1
    },
    {
     "cell_type": "code",
     "collapsed": false,
     "input": [
      "class Ricker(object):\n",
      "    def __init__(self, amp, cf, delay):\n",
      "        self.amp = amp\n",
      "        self.cf = cf\n",
      "        self.delay = delay\n",
      "        \n",
      "    def __call__(self, time):\n",
      "        t = (time - self.delay)\n",
      "        return self.amp*(1 - 2*(np.pi*self.cf*t)**2)*np.exp(-(np.pi*self.cf*t)**2)        "
     ],
     "language": "python",
     "metadata": {},
     "outputs": [],
     "prompt_number": 2
    },
    {
     "cell_type": "code",
     "collapsed": false,
     "input": [
      "def xz2ij(x, z, spacing, shape):\n",
      "    nz, nx = shape\n",
      "    i = int(round(z/spacing))\n",
      "    j = int(round(x/spacing))\n",
      "    return [i, j]"
     ],
     "language": "python",
     "metadata": {},
     "outputs": [],
     "prompt_number": 3
    },
    {
     "cell_type": "code",
     "collapsed": false,
     "input": [
      "class ElasticSH(object):\n",
      "    def __init__(self, velocity, density, spacing, padding=50, taper=0.007, cachefile='simulation.hdf5'):\n",
      "        self.density = density\n",
      "        self.spacing = spacing\n",
      "        self.mu = wavefd.lame_mu(velocity, density)\n",
      "        self.shape = self.mu.shape\n",
      "        nz, nx = self.shape\n",
      "        self.dt = 0.6*wavefd.maxdt([0, nx*spacing, 0, nz*spacing], self.shape, velocity.max())\n",
      "        self.sources = []\n",
      "        self.padding = padding\n",
      "        self.taper = taper\n",
      "        self.stream = sys.stderr\n",
      "        self.cachefile = cachefile\n",
      "        with h5py.File(cachefile, 'w') as f:\n",
      "            cache = f.create_dataset('panels', tuple([2] + list(self.shape)), \n",
      "                                     maxshape=tuple([None] + list(self.shape)), \n",
      "                                     dtype=np.float)\n",
      "        self.it = 2\n",
      "            \n",
      "    def add_point_source(self, position, wavelet):\n",
      "        self.sources.append([position, wavelet])\n",
      "        \n",
      "    def run(self, iterations):\n",
      "        nz, nx = self.shape\n",
      "        dz, dx = self.spacing, self.spacing\n",
      "        f = h5py.File(self.cachefile, 'a')\n",
      "        try:\n",
      "            cache = f['panels']\n",
      "            cache.resize(self.it + iterations, axis=0)\n",
      "            # Pack the particle position u at 2 different times in one 3d array\n",
      "            # u[0] = u(t-1)\n",
      "            # u[1] = u(t)\n",
      "            # The next time step overwrites the t-1 panel\n",
      "            u = cache[self.it - 2 : self.it][::-1]\n",
      "            if self.it == 2:            \n",
      "                for pos, src in self.sources:\n",
      "                    i, j = pos\n",
      "                    u[1, i, j] += src(self.dt)\n",
      "            # The size of the progress status bar\n",
      "            places = 50\n",
      "            self.stream.write(''.join(['|', '-'*places, '|', '  0%']))\n",
      "            self.stream.flush()\n",
      "            nprinted = 0\n",
      "            for iteration in xrange(iterations):\n",
      "                t, tm1 = iteration%2, (iteration + 1)%2\n",
      "                tp1 = tm1\n",
      "                wavefd._step_elastic_sh(u[tp1], u[t], u[tm1], 3, nx - 3, 3, nz - 3, self.dt, dx, dz, self.mu, self.density)\n",
      "                wavefd._apply_damping(u[t], nx, nz, self.padding, self.taper)\n",
      "                wavefd._nonreflexive_sh_boundary_conditions(u[tp1], u[t], nx, nz, self.dt, dx, dz, self.mu, self.density)\n",
      "                wavefd._apply_damping(u[tp1], nx, nz, self.padding, self.taper)\n",
      "                for pos, src in self.sources:\n",
      "                    i, j = pos\n",
      "                    u[tp1, i, j] += src((self.it + iteration)*self.dt)\n",
      "                cache[self.it + iteration] = u[tp1]\n",
      "                # Update the status bar\n",
      "                percent = int(round(100*(iteration + 1)/iterations))\n",
      "                n = int(round(0.01*percent*places))\n",
      "                if n > nprinted:\n",
      "                    self.stream.write(''.join(['\\r|', '#'*n, '-'*(places - n), '|', '%3d%s' % (percent, '%')]))\n",
      "                    self.stream.flush()\n",
      "                    nprinted = n\n",
      "            self.it += iterations\n",
      "            # Make sure the progress bar ends in 100 percent\n",
      "            self.stream.write(''.join(['\\r|', '#'*places, '|', '100%']))\n",
      "            self.stream.flush()\n",
      "            f.close()\n",
      "        except Exception as e:\n",
      "            f.close()\n",
      "            raise e\n",
      "        \n",
      "    def animate(self, every=1, ranges=[-1e-5, 1e-5], ax=None, **kwargs):\n",
      "        f = h5py.File(self.cachefile, 'r')\n",
      "        try:\n",
      "            cache = f['panels']\n",
      "            if ax is None:\n",
      "                mpl.figure()\n",
      "                ax = mpl.subplot(1, 1, 1)\n",
      "            wavefield = mpl.imshow(np.zeros(self.shape), vmin=ranges[0], vmax=ranges[1], cmap=mpl.cm.seismic)\n",
      "            frames = (self.it - 1)/every\n",
      "            def plot(i, cache=cache):\n",
      "                ax.set_title(i*every)\n",
      "                u = cache[i*every]\n",
      "                wavefield.set_array(u)\n",
      "                return wavefield, cache\n",
      "            anim = animation.FuncAnimation(ax.get_figure(), plot, frames=frames, **kwargs)\n",
      "            mpl.show()\n",
      "            f.close()\n",
      "        except Exception as e:\n",
      "            f.close()\n",
      "            raise e\n",
      "        return anim"
     ],
     "language": "python",
     "metadata": {},
     "outputs": [],
     "prompt_number": 10
    },
    {
     "cell_type": "code",
     "collapsed": false,
     "input": [
      "# Set the parameters of the finite difference grid\n",
      "ds = 10\n",
      "velocity = utils.fromimage('crooked-layer.png', ranges=[2500, 3500]).astype(np.float)\n",
      "density = utils.fromimage('crooked-layer.png', ranges=[2200, 2500]).astype(np.float)\n",
      "shape = velocity.shape\n",
      "print('shape = {}\\narea = {}'.format(shape, [s*ds for s in shape]))"
     ],
     "language": "python",
     "metadata": {},
     "outputs": [
      {
       "output_type": "stream",
       "stream": "stdout",
       "text": [
        "shape = (500, 700)\n",
        "area = [5000, 7000]\n"
       ]
      }
     ],
     "prompt_number": 44
    },
    {
     "cell_type": "code",
     "collapsed": false,
     "input": [
      "sim = ElasticSH(velocity, density, ds, padding=50, taper=0.004, cachefile='/home/leo/tmp/simulation.hdf5')\n",
      "sim.add_point_source((0, 90), Ricker(5, 20, 0.1))"
     ],
     "language": "python",
     "metadata": {},
     "outputs": [],
     "prompt_number": 62
    },
    {
     "cell_type": "code",
     "collapsed": false,
     "input": [
      "sim.run(3000)\n",
      "sim.it"
     ],
     "language": "python",
     "metadata": {},
     "outputs": [
      {
       "output_type": "stream",
       "stream": "stderr",
       "text": [
        "|--------------------------------------------------|  0%"
       ]
      },
      {
       "output_type": "stream",
       "stream": "stderr",
       "text": [
        "\r",
        "|#-------------------------------------------------|  1%"
       ]
      },
      {
       "output_type": "stream",
       "stream": "stderr",
       "text": [
        "\r",
        "|##------------------------------------------------|  3%"
       ]
      },
      {
       "output_type": "stream",
       "stream": "stderr",
       "text": [
        "\r",
        "|###-----------------------------------------------|  5%"
       ]
      },
      {
       "output_type": "stream",
       "stream": "stderr",
       "text": [
        "\r",
        "|####----------------------------------------------|  7%"
       ]
      },
      {
       "output_type": "stream",
       "stream": "stderr",
       "text": [
        "\r",
        "|#####---------------------------------------------|  9%"
       ]
      },
      {
       "output_type": "stream",
       "stream": "stderr",
       "text": [
        "\r",
        "|######--------------------------------------------| 11%"
       ]
      },
      {
       "output_type": "stream",
       "stream": "stderr",
       "text": [
        "\r",
        "|#######-------------------------------------------| 13%"
       ]
      },
      {
       "output_type": "stream",
       "stream": "stderr",
       "text": [
        "\r",
        "|########------------------------------------------| 15%"
       ]
      },
      {
       "output_type": "stream",
       "stream": "stderr",
       "text": [
        "\r",
        "|#########-----------------------------------------| 17%"
       ]
      },
      {
       "output_type": "stream",
       "stream": "stderr",
       "text": [
        "\r",
        "|##########----------------------------------------| 19%"
       ]
      },
      {
       "output_type": "stream",
       "stream": "stderr",
       "text": [
        "\r",
        "|###########---------------------------------------| 21%"
       ]
      },
      {
       "output_type": "stream",
       "stream": "stderr",
       "text": [
        "\r",
        "|############--------------------------------------| 23%"
       ]
      },
      {
       "output_type": "stream",
       "stream": "stderr",
       "text": [
        "\r",
        "|#############-------------------------------------| 25%"
       ]
      },
      {
       "output_type": "stream",
       "stream": "stderr",
       "text": [
        "\r",
        "|##############------------------------------------| 27%"
       ]
      },
      {
       "output_type": "stream",
       "stream": "stderr",
       "text": [
        "\r",
        "|###############-----------------------------------| 30%"
       ]
      },
      {
       "output_type": "stream",
       "stream": "stderr",
       "text": [
        "\r",
        "|################----------------------------------| 31%"
       ]
      },
      {
       "output_type": "stream",
       "stream": "stderr",
       "text": [
        "\r",
        "|#################---------------------------------| 33%"
       ]
      },
      {
       "output_type": "stream",
       "stream": "stderr",
       "text": [
        "\r",
        "|##################--------------------------------| 35%"
       ]
      },
      {
       "output_type": "stream",
       "stream": "stderr",
       "text": [
        "\r",
        "|###################-------------------------------| 37%"
       ]
      },
      {
       "output_type": "stream",
       "stream": "stderr",
       "text": [
        "\r",
        "|####################------------------------------| 39%"
       ]
      },
      {
       "output_type": "stream",
       "stream": "stderr",
       "text": [
        "\r",
        "|#####################-----------------------------| 41%"
       ]
      },
      {
       "output_type": "stream",
       "stream": "stderr",
       "text": [
        "\r",
        "|######################----------------------------| 43%"
       ]
      },
      {
       "output_type": "stream",
       "stream": "stderr",
       "text": [
        "\r",
        "|#######################---------------------------| 45%"
       ]
      },
      {
       "output_type": "stream",
       "stream": "stderr",
       "text": [
        "\r",
        "|########################--------------------------| 47%"
       ]
      },
      {
       "output_type": "stream",
       "stream": "stderr",
       "text": [
        "\r",
        "|#########################-------------------------| 49%"
       ]
      },
      {
       "output_type": "stream",
       "stream": "stderr",
       "text": [
        "\r",
        "|##########################------------------------| 51%"
       ]
      },
      {
       "output_type": "stream",
       "stream": "stderr",
       "text": [
        "\r",
        "|###########################-----------------------| 53%"
       ]
      },
      {
       "output_type": "stream",
       "stream": "stderr",
       "text": [
        "\r",
        "|############################----------------------| 55%"
       ]
      },
      {
       "output_type": "stream",
       "stream": "stderr",
       "text": [
        "\r",
        "|#############################---------------------| 57%"
       ]
      },
      {
       "output_type": "stream",
       "stream": "stderr",
       "text": [
        "\r",
        "|##############################--------------------| 59%"
       ]
      },
      {
       "output_type": "stream",
       "stream": "stderr",
       "text": [
        "\r",
        "|###############################-------------------| 61%"
       ]
      },
      {
       "output_type": "stream",
       "stream": "stderr",
       "text": [
        "\r",
        "|################################------------------| 63%"
       ]
      },
      {
       "output_type": "stream",
       "stream": "stderr",
       "text": [
        "\r",
        "|#################################-----------------| 65%"
       ]
      },
      {
       "output_type": "stream",
       "stream": "stderr",
       "text": [
        "\r",
        "|##################################----------------| 67%"
       ]
      },
      {
       "output_type": "stream",
       "stream": "stderr",
       "text": [
        "\r",
        "|###################################---------------| 69%"
       ]
      },
      {
       "output_type": "stream",
       "stream": "stderr",
       "text": [
        "\r",
        "|####################################--------------| 71%"
       ]
      },
      {
       "output_type": "stream",
       "stream": "stderr",
       "text": [
        "\r",
        "|#####################################-------------| 73%"
       ]
      },
      {
       "output_type": "stream",
       "stream": "stderr",
       "text": [
        "\r",
        "|######################################------------| 75%"
       ]
      },
      {
       "output_type": "stream",
       "stream": "stderr",
       "text": [
        "\r",
        "|#######################################-----------| 77%"
       ]
      },
      {
       "output_type": "stream",
       "stream": "stderr",
       "text": [
        "\r",
        "|########################################----------| 79%"
       ]
      },
      {
       "output_type": "stream",
       "stream": "stderr",
       "text": [
        "\r",
        "|#########################################---------| 81%"
       ]
      },
      {
       "output_type": "stream",
       "stream": "stderr",
       "text": [
        "\r",
        "|##########################################--------| 83%"
       ]
      },
      {
       "output_type": "stream",
       "stream": "stderr",
       "text": [
        "\r",
        "|###########################################-------| 85%"
       ]
      },
      {
       "output_type": "stream",
       "stream": "stderr",
       "text": [
        "\r",
        "|############################################------| 87%"
       ]
      },
      {
       "output_type": "stream",
       "stream": "stderr",
       "text": [
        "\r",
        "|#############################################-----| 89%"
       ]
      },
      {
       "output_type": "stream",
       "stream": "stderr",
       "text": [
        "\r",
        "|##############################################----| 91%"
       ]
      },
      {
       "output_type": "stream",
       "stream": "stderr",
       "text": [
        "\r",
        "|###############################################---| 93%"
       ]
      },
      {
       "output_type": "stream",
       "stream": "stderr",
       "text": [
        "\r",
        "|################################################--| 95%"
       ]
      },
      {
       "output_type": "stream",
       "stream": "stderr",
       "text": [
        "\r",
        "|#################################################-| 97%"
       ]
      },
      {
       "output_type": "stream",
       "stream": "stderr",
       "text": [
        "\r",
        "|##################################################| 99%"
       ]
      },
      {
       "output_type": "stream",
       "stream": "stderr",
       "text": [
        "\r",
        "|##################################################|100%"
       ]
      },
      {
       "metadata": {},
       "output_type": "pyout",
       "prompt_number": 68,
       "text": [
        "3002"
       ]
      }
     ],
     "prompt_number": 68
    },
    {
     "cell_type": "code",
     "collapsed": false,
     "input": [
      "mpl.figure()\n",
      "ax = mpl.subplot(111)\n",
      "a = mpl.imshow(np.ma.masked_array(velocity, velocity < 0.95*velocity.max()), cmap=mpl.cm.gray_r, alpha=0.5)\n",
      "a.zorder = 1000\n",
      "ax.axison = False\n",
      "mpl.subplots_adjust(top=1, bottom=0, right=1, left=0)\n",
      "anim = sim.animate(every=80, ranges=[-1e-4, 1e-4], interval=100, ax=ax)"
     ],
     "language": "python",
     "metadata": {},
     "outputs": [],
     "prompt_number": 70
    },
    {
     "cell_type": "code",
     "collapsed": false,
     "input": [],
     "language": "python",
     "metadata": {},
     "outputs": []
    }
   ],
   "metadata": {}
  }
 ]
}