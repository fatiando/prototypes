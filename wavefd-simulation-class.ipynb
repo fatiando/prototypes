{
 "metadata": {
  "name": "",
  "signature": "sha256:5fbdbad32449b381e1191854d1208d98d16ee4b997ed29d4a28ad360306c59d1"
 },
 "nbformat": 3,
 "nbformat_minor": 0,
 "worksheets": [
  {
   "cells": [
    {
     "cell_type": "code",
     "collapsed": false,
     "input": [
      "import numpy as np\n",
      "import scipy.sparse\n",
      "import sys\n",
      "from IPython.display import Image\n",
      "from matplotlib import animation\n",
      "from fatiando import utils\n",
      "from fatiando.seismic import wavefd\n",
      "from fatiando.gravmag import prism\n",
      "from fatiando.mesher import PrismMesh\n",
      "from fatiando.vis import mpl, myv\n",
      "import h5py"
     ],
     "language": "python",
     "metadata": {},
     "outputs": [],
     "prompt_number": 1
    },
    {
     "cell_type": "code",
     "collapsed": false,
     "input": [
      "class Ricker(object):\n",
      "    def __init__(self, amp, cf, delay):\n",
      "        self.amp = amp\n",
      "        self.cf = cf\n",
      "        self.delay = delay\n",
      "        \n",
      "    def __call__(self, time):\n",
      "        t = (time - self.delay)\n",
      "        return self.amp*(1 - 2*(np.pi*self.cf*t)**2)*np.exp(-(np.pi*self.cf*t)**2)\n",
      "    \n",
      "    def __mul__(self, scalar):     \n",
      "        return Ricker(self.amp*scalar, self.cf, self.delay)\n",
      "    \n",
      "    def __rmul__(self, scalar):\n",
      "        return self.__mul__(scalar)"
     ],
     "language": "python",
     "metadata": {},
     "outputs": [],
     "prompt_number": 2
    },
    {
     "cell_type": "code",
     "collapsed": false,
     "input": [
      "w = Ricker(1, 20, 0)\n",
      "print(w(np.linspace(0, 1, 20)))\n",
      "print((2*w)(np.linspace(0, 1, 20)))\n",
      "print(w(np.linspace(0, 1, 20)))"
     ],
     "language": "python",
     "metadata": {},
     "outputs": [
      {
       "output_type": "stream",
       "stream": "stdout",
       "text": [
        "[  1.00000000e+000  -3.71688061e-004  -8.69827252e-018  -3.52777050e-041\n",
        "  -3.57019940e-074  -1.00588307e-116  -8.27907533e-169  -2.04217183e-230\n",
        "  -1.53279190e-301  -0.00000000e+000  -0.00000000e+000  -0.00000000e+000\n",
        "  -0.00000000e+000  -0.00000000e+000  -0.00000000e+000  -0.00000000e+000\n",
        "  -0.00000000e+000  -0.00000000e+000  -0.00000000e+000  -0.00000000e+000]\n",
        "[  2.00000000e+000  -7.43376122e-004  -1.73965450e-017  -7.05554100e-041\n",
        "  -7.14039881e-074  -2.01176614e-116  -1.65581507e-168  -4.08434366e-230\n",
        "  -3.06558380e-301  -0.00000000e+000  -0.00000000e+000  -0.00000000e+000\n",
        "  -0.00000000e+000  -0.00000000e+000  -0.00000000e+000  -0.00000000e+000\n",
        "  -0.00000000e+000  -0.00000000e+000  -0.00000000e+000  -0.00000000e+000]\n",
        "[  1.00000000e+000  -3.71688061e-004  -8.69827252e-018  -3.52777050e-041\n",
        "  -3.57019940e-074  -1.00588307e-116  -8.27907533e-169  -2.04217183e-230\n",
        "  -1.53279190e-301  -0.00000000e+000  -0.00000000e+000  -0.00000000e+000\n",
        "  -0.00000000e+000  -0.00000000e+000  -0.00000000e+000  -0.00000000e+000\n",
        "  -0.00000000e+000  -0.00000000e+000  -0.00000000e+000  -0.00000000e+000]\n"
       ]
      }
     ],
     "prompt_number": 3
    },
    {
     "cell_type": "code",
     "collapsed": false,
     "input": [
      "def xz2ij(x, z, spacing, shape):\n",
      "    nz, nx = shape\n",
      "    i = int(round(z/spacing))\n",
      "    j = int(round(x/spacing))\n",
      "    return [i, j]"
     ],
     "language": "python",
     "metadata": {},
     "outputs": [],
     "prompt_number": 4
    },
    {
     "cell_type": "code",
     "collapsed": false,
     "input": [
      "class ElasticSH(object):\n",
      "    def __init__(self, velocity, density, spacing, dt=None, padding=50, taper=0.007, cachefile='elasticsh-cache.hdf5'):\n",
      "        self.density = density\n",
      "        self.velocity = velocity\n",
      "        self.spacing = spacing\n",
      "        self.mu = wavefd.lame_mu(velocity, density)\n",
      "        self.shape = self.mu.shape\n",
      "        nz, nx = self.shape\n",
      "        if dt is None:\n",
      "            self.dt = 0.6*wavefd.maxdt([0, nx*spacing, 0, nz*spacing], self.shape, velocity.max())\n",
      "        else:\n",
      "            self.dt = dt\n",
      "        self.sources = []\n",
      "        self.padding = padding\n",
      "        self.taper = taper\n",
      "        self.stream = sys.stderr\n",
      "        self.cachefile = cachefile\n",
      "        self.it = 0\n",
      "    \n",
      "    @staticmethod\n",
      "    def from_cache(fname):\n",
      "        with h5py.File(fname, 'r') as f:\n",
      "            sim = ElasticSH(f['velocity'][:], f['density'][:], f['spacing'].value, \n",
      "                            dt=f['dt'].value, padding=f['padding'].value,\n",
      "                            taper=f['taper'].value, cachefile=fname)\n",
      "            sim.it = f['panels'].shape[0]\n",
      "        return sim\n",
      "            \n",
      "    def add_point_source(self, position, wavelet):\n",
      "        self.sources.append([position, wavelet])\n",
      "        \n",
      "    def run(self, iterations):\n",
      "        nz, nx = self.shape\n",
      "        dz, dx = self.spacing, self.spacing\n",
      "        # Initialize the cache on the first run\n",
      "        if self.it == 0:\n",
      "            with h5py.File(self.cachefile, 'w') as f:\n",
      "                cache = f.create_dataset('panels', tuple([2] + list(self.shape)), \n",
      "                                         maxshape=tuple([None] + list(self.shape)), \n",
      "                                         dtype=np.float)\n",
      "                f.create_dataset('velocity', data=self.velocity)\n",
      "                f.create_dataset('density', data=self.density)\n",
      "                f.create_dataset('spacing', data=self.spacing)\n",
      "                f.create_dataset('dt', data=self.dt)\n",
      "                f.create_dataset('padding', data=self.padding)\n",
      "                f.create_dataset('taper', data=self.taper)\n",
      "            self.it = 2\n",
      "            iterations -= 2\n",
      "        with h5py.File(self.cachefile, 'a') as f:\n",
      "            # Get the last two panels from the cache\n",
      "            cache = f['panels']\n",
      "            cache.resize(self.it + iterations, axis=0)\n",
      "            u = cache[self.it - 2 : self.it][::-1]\n",
      "            if self.it == 2:\n",
      "                for pos, src in self.sources:\n",
      "                    i, j = pos\n",
      "                    u[1, i, j] += src(self.dt)\n",
      "            # The size of the progress status bar\n",
      "            places = 50\n",
      "            self.stream.write(''.join(['|', '-'*places, '|', '  0%']))\n",
      "            self.stream.flush()\n",
      "            nprinted = 0\n",
      "            for iteration in xrange(iterations):\n",
      "                t, tm1 = iteration%2, (iteration + 1)%2\n",
      "                tp1 = tm1\n",
      "                wavefd._step_elastic_sh(u[tp1], u[t], u[tm1], 3, nx - 3, 3, nz - 3, self.dt, dx, dz, self.mu, self.density)\n",
      "                wavefd._apply_damping(u[t], nx, nz, self.padding, self.taper)\n",
      "                wavefd._nonreflexive_sh_boundary_conditions(u[tp1], u[t], nx, nz, self.dt, dx, dz, self.mu, self.density)\n",
      "                wavefd._apply_damping(u[tp1], nx, nz, self.padding, self.taper)\n",
      "                for pos, src in self.sources:\n",
      "                    i, j = pos\n",
      "                    u[tp1, i, j] += src((self.it + iteration)*self.dt)\n",
      "                cache[self.it + iteration] = u[tp1]\n",
      "                # Update the status bar\n",
      "                percent = int(round(100*(iteration + 1)/iterations))\n",
      "                n = int(round(0.01*percent*places))\n",
      "                if n > nprinted:\n",
      "                    self.stream.write(''.join(['\\r|', '#'*n, '-'*(places - n), '|', '%3d%s' % (percent, '%')]))\n",
      "                    self.stream.flush()\n",
      "                    nprinted = n\n",
      "            self.it += iterations\n",
      "            # Make sure the progress bar ends in 100 percent\n",
      "            self.stream.write(''.join(['\\r|', '#'*places, '|', '100%']))\n",
      "            self.stream.flush()\n",
      "        \n",
      "    def animate(self, every=1, ranges=[-1e-5, 1e-5], ax=None, **kwargs):\n",
      "        with h5py.File(self.cachefile, 'r') as f:\n",
      "            cache = f['panels']\n",
      "            if ax is None:\n",
      "                mpl.figure()\n",
      "                ax = mpl.subplot(1, 1, 1)\n",
      "            wavefield = mpl.imshow(np.zeros(self.shape), vmin=ranges[0], vmax=ranges[1], cmap=mpl.cm.seismic)\n",
      "            frames = (self.it - 1)/every\n",
      "            def plot(i, cache=cache):\n",
      "                ax.set_title(i*every)\n",
      "                u = cache[i*every]\n",
      "                wavefield.set_array(u)\n",
      "                return wavefield, cache\n",
      "            anim = animation.FuncAnimation(ax.get_figure(), plot, frames=frames, **kwargs)\n",
      "            mpl.show()\n",
      "        return anim"
     ],
     "language": "python",
     "metadata": {},
     "outputs": [],
     "prompt_number": 6
    },
    {
     "cell_type": "code",
     "collapsed": false,
     "input": [
      "# Set the parameters of the finite difference grid\n",
      "ds = 10\n",
      "velocity = utils.fromimage('crooked-layer.png', ranges=[2500, 3500]).astype(np.float)\n",
      "density = utils.fromimage('crooked-layer.png', ranges=[2200, 2500]).astype(np.float)\n",
      "shape = velocity.shape\n",
      "print('shape = {}\\narea = {}'.format(shape, [s*ds for s in shape]))"
     ],
     "language": "python",
     "metadata": {},
     "outputs": [
      {
       "output_type": "stream",
       "stream": "stdout",
       "text": [
        "shape = (500, 700)\n",
        "area = [5000, 7000]\n"
       ]
      }
     ],
     "prompt_number": 7
    },
    {
     "cell_type": "code",
     "collapsed": false,
     "input": [
      "sim = ElasticSH(velocity, density, ds, padding=50, taper=0.004, cachefile='/home/leo/tmp/simulation.h5')\n",
      "sim.add_point_source((0, 90), Ricker(5, 20, 0.1))"
     ],
     "language": "python",
     "metadata": {},
     "outputs": [],
     "prompt_number": 8
    },
    {
     "cell_type": "code",
     "collapsed": false,
     "input": [
      "sim.run(100)\n",
      "sim.it"
     ],
     "language": "python",
     "metadata": {},
     "outputs": [
      {
       "output_type": "stream",
       "stream": "stderr",
       "text": [
        "|--------------------------------------------------|  0%"
       ]
      },
      {
       "output_type": "stream",
       "stream": "stderr",
       "text": [
        "\r",
        "|#-------------------------------------------------|  1%"
       ]
      },
      {
       "output_type": "stream",
       "stream": "stderr",
       "text": [
        "\r",
        "|##------------------------------------------------|  3%"
       ]
      },
      {
       "output_type": "stream",
       "stream": "stderr",
       "text": [
        "\r",
        "|###-----------------------------------------------|  5%"
       ]
      },
      {
       "output_type": "stream",
       "stream": "stderr",
       "text": [
        "\r",
        "|####----------------------------------------------|  7%"
       ]
      },
      {
       "output_type": "stream",
       "stream": "stderr",
       "text": [
        "\r",
        "|#####---------------------------------------------|  9%"
       ]
      },
      {
       "output_type": "stream",
       "stream": "stderr",
       "text": [
        "\r",
        "|######--------------------------------------------| 11%"
       ]
      },
      {
       "output_type": "stream",
       "stream": "stderr",
       "text": [
        "\r",
        "|#######-------------------------------------------| 13%"
       ]
      },
      {
       "output_type": "stream",
       "stream": "stderr",
       "text": [
        "\r",
        "|########------------------------------------------| 15%"
       ]
      },
      {
       "output_type": "stream",
       "stream": "stderr",
       "text": [
        "\r",
        "|#########-----------------------------------------| 17%"
       ]
      },
      {
       "output_type": "stream",
       "stream": "stderr",
       "text": [
        "\r",
        "|##########----------------------------------------| 19%"
       ]
      },
      {
       "output_type": "stream",
       "stream": "stderr",
       "text": [
        "\r",
        "|###########---------------------------------------| 21%"
       ]
      },
      {
       "output_type": "stream",
       "stream": "stderr",
       "text": [
        "\r",
        "|############--------------------------------------| 23%"
       ]
      },
      {
       "output_type": "stream",
       "stream": "stderr",
       "text": [
        "\r",
        "|#############-------------------------------------| 25%"
       ]
      },
      {
       "output_type": "stream",
       "stream": "stderr",
       "text": [
        "\r",
        "|##############------------------------------------| 27%"
       ]
      },
      {
       "output_type": "stream",
       "stream": "stderr",
       "text": [
        "\r",
        "|###############-----------------------------------| 30%"
       ]
      },
      {
       "output_type": "stream",
       "stream": "stderr",
       "text": [
        "\r",
        "|################----------------------------------| 31%"
       ]
      },
      {
       "output_type": "stream",
       "stream": "stderr",
       "text": [
        "\r",
        "|#################---------------------------------| 33%"
       ]
      },
      {
       "output_type": "stream",
       "stream": "stderr",
       "text": [
        "\r",
        "|##################--------------------------------| 35%"
       ]
      },
      {
       "output_type": "stream",
       "stream": "stderr",
       "text": [
        "\r",
        "|###################-------------------------------| 37%"
       ]
      },
      {
       "output_type": "stream",
       "stream": "stderr",
       "text": [
        "\r",
        "|####################------------------------------| 39%"
       ]
      },
      {
       "output_type": "stream",
       "stream": "stderr",
       "text": [
        "\r",
        "|#####################-----------------------------| 41%"
       ]
      },
      {
       "output_type": "stream",
       "stream": "stderr",
       "text": [
        "\r",
        "|######################----------------------------| 43%"
       ]
      },
      {
       "output_type": "stream",
       "stream": "stderr",
       "text": [
        "\r",
        "|#######################---------------------------| 45%"
       ]
      },
      {
       "output_type": "stream",
       "stream": "stderr",
       "text": [
        "\r",
        "|########################--------------------------| 47%"
       ]
      },
      {
       "output_type": "stream",
       "stream": "stderr",
       "text": [
        "\r",
        "|#########################-------------------------| 49%"
       ]
      },
      {
       "output_type": "stream",
       "stream": "stderr",
       "text": [
        "\r",
        "|##########################------------------------| 51%"
       ]
      },
      {
       "output_type": "stream",
       "stream": "stderr",
       "text": [
        "\r",
        "|###########################-----------------------| 53%"
       ]
      },
      {
       "output_type": "stream",
       "stream": "stderr",
       "text": [
        "\r",
        "|############################----------------------| 55%"
       ]
      },
      {
       "output_type": "stream",
       "stream": "stderr",
       "text": [
        "\r",
        "|#############################---------------------| 57%"
       ]
      },
      {
       "output_type": "stream",
       "stream": "stderr",
       "text": [
        "\r",
        "|##############################--------------------| 59%"
       ]
      },
      {
       "output_type": "stream",
       "stream": "stderr",
       "text": [
        "\r",
        "|###############################-------------------| 61%"
       ]
      },
      {
       "output_type": "stream",
       "stream": "stderr",
       "text": [
        "\r",
        "|################################------------------| 63%"
       ]
      },
      {
       "output_type": "stream",
       "stream": "stderr",
       "text": [
        "\r",
        "|#################################-----------------| 65%"
       ]
      },
      {
       "output_type": "stream",
       "stream": "stderr",
       "text": [
        "\r",
        "|##################################----------------| 67%"
       ]
      },
      {
       "output_type": "stream",
       "stream": "stderr",
       "text": [
        "\r",
        "|###################################---------------| 69%"
       ]
      },
      {
       "output_type": "stream",
       "stream": "stderr",
       "text": [
        "\r",
        "|####################################--------------| 71%"
       ]
      },
      {
       "output_type": "stream",
       "stream": "stderr",
       "text": [
        "\r",
        "|#####################################-------------| 73%"
       ]
      },
      {
       "output_type": "stream",
       "stream": "stderr",
       "text": [
        "\r",
        "|######################################------------| 75%"
       ]
      },
      {
       "output_type": "stream",
       "stream": "stderr",
       "text": [
        "\r",
        "|#######################################-----------| 77%"
       ]
      },
      {
       "output_type": "stream",
       "stream": "stderr",
       "text": [
        "\r",
        "|########################################----------| 79%"
       ]
      },
      {
       "output_type": "stream",
       "stream": "stderr",
       "text": [
        "\r",
        "|#########################################---------| 81%"
       ]
      },
      {
       "output_type": "stream",
       "stream": "stderr",
       "text": [
        "\r",
        "|##########################################--------| 83%"
       ]
      },
      {
       "output_type": "stream",
       "stream": "stderr",
       "text": [
        "\r",
        "|###########################################-------| 85%"
       ]
      },
      {
       "output_type": "stream",
       "stream": "stderr",
       "text": [
        "\r",
        "|############################################------| 87%"
       ]
      },
      {
       "output_type": "stream",
       "stream": "stderr",
       "text": [
        "\r",
        "|#############################################-----| 89%"
       ]
      },
      {
       "output_type": "stream",
       "stream": "stderr",
       "text": [
        "\r",
        "|##############################################----| 91%"
       ]
      },
      {
       "output_type": "stream",
       "stream": "stderr",
       "text": [
        "\r",
        "|###############################################---| 93%"
       ]
      },
      {
       "output_type": "stream",
       "stream": "stderr",
       "text": [
        "\r",
        "|################################################--| 95%"
       ]
      },
      {
       "output_type": "stream",
       "stream": "stderr",
       "text": [
        "\r",
        "|#################################################-| 97%"
       ]
      },
      {
       "output_type": "stream",
       "stream": "stderr",
       "text": [
        "\r",
        "|##################################################| 99%"
       ]
      },
      {
       "output_type": "stream",
       "stream": "stderr",
       "text": [
        "\r",
        "|##################################################|100%"
       ]
      },
      {
       "metadata": {},
       "output_type": "pyout",
       "prompt_number": 14,
       "text": [
        "700"
       ]
      }
     ],
     "prompt_number": 14
    },
    {
     "cell_type": "code",
     "collapsed": false,
     "input": [
      "mpl.figure()\n",
      "ax = mpl.subplot(111)\n",
      "a = mpl.imshow(np.ma.masked_array(velocity, velocity < 0.95*velocity.max()), cmap=mpl.cm.gray_r, alpha=0.5)\n",
      "a.zorder = 1000\n",
      "ax.axison = False\n",
      "mpl.subplots_adjust(top=1, bottom=0, right=1, left=0)\n",
      "\n",
      "sim.animate(every=20, ranges=[-5e-4, 5e-4], interval=50, ax=ax)"
     ],
     "language": "python",
     "metadata": {},
     "outputs": [
      {
       "metadata": {},
       "output_type": "pyout",
       "prompt_number": 16,
       "text": [
        "<matplotlib.animation.FuncAnimation at 0x7f6822bd4690>"
       ]
      }
     ],
     "prompt_number": 16
    },
    {
     "cell_type": "code",
     "collapsed": false,
     "input": [
      "other = ElasticSH.from_cache('/home/leo/tmp/simulation.h5')"
     ],
     "language": "python",
     "metadata": {},
     "outputs": [],
     "prompt_number": 17
    },
    {
     "cell_type": "code",
     "collapsed": false,
     "input": [
      "mpl.figure()\n",
      "ax = mpl.subplot(111)\n",
      "a = mpl.imshow(np.ma.masked_array(velocity, velocity < 0.95*velocity.max()), cmap=mpl.cm.gray_r, alpha=0.5)\n",
      "a.zorder = 1000\n",
      "ax.axison = False\n",
      "mpl.subplots_adjust(top=1, bottom=0, right=1, left=0)\n",
      "\n",
      "other.animate(every=10, ranges=[-5e-4, 5e-4], interval=100, ax=ax)"
     ],
     "language": "python",
     "metadata": {},
     "outputs": [
      {
       "metadata": {},
       "output_type": "pyout",
       "prompt_number": 18,
       "text": [
        "<matplotlib.animation.FuncAnimation at 0x7f682298c4d0>"
       ]
      }
     ],
     "prompt_number": 18
    },
    {
     "cell_type": "code",
     "collapsed": false,
     "input": [
      "class Scalar2D(object):\n",
      "    def __init__(self, velocity, spacing, dt=None, padding=50, taper=0.007, cachefile='scalar2d-cache.hdf5'):\n",
      "        self.velocity = velocity\n",
      "        self.spacing = spacing\n",
      "        self.shape = velocity.shape\n",
      "        nz, nx = self.shape\n",
      "        if dt is None:\n",
      "            self.dt = 0.6*wavefd.maxdt([0, nx*spacing, 0, nz*spacing], self.shape, velocity.max())\n",
      "        else:\n",
      "            self.dt = dt\n",
      "        self.sources = []\n",
      "        self.padding = padding\n",
      "        self.taper = taper\n",
      "        self.stream = sys.stderr\n",
      "        self.cachefile = cachefile\n",
      "        self.it = 0\n",
      "    \n",
      "    @staticmethod\n",
      "    def from_cache(fname):\n",
      "        with h5py.File(fname, 'r') as f:\n",
      "            sim = Scalar2D(f['velocity'][:], f['spacing'].value, \n",
      "                            dt=f['dt'].value, padding=f['padding'].value,\n",
      "                            taper=f['taper'].value, cachefile=fname)\n",
      "            sim.it = f['panels'].shape[0]\n",
      "        return sim\n",
      "            \n",
      "    def add_point_source(self, position, wavelet):\n",
      "        self.sources.append([position, wavelet])\n",
      "        \n",
      "    def run(self, iterations):\n",
      "        nz, nx = self.shape\n",
      "        # Initialize the cache on the first run\n",
      "        if self.it == 0:\n",
      "            with h5py.File(self.cachefile, 'w') as f:\n",
      "                cache = f.create_dataset('panels', tuple([2] + list(self.shape)), \n",
      "                                         maxshape=tuple([None] + list(self.shape)), \n",
      "                                         dtype=np.float)\n",
      "                f.create_dataset('velocity', data=self.velocity)\n",
      "                f.create_dataset('spacing', data=self.spacing)\n",
      "                f.create_dataset('dt', data=self.dt)\n",
      "                f.create_dataset('padding', data=self.padding)\n",
      "                f.create_dataset('taper', data=self.taper)\n",
      "            self.it = 2\n",
      "            iterations -= 2\n",
      "        with h5py.File(self.cachefile, 'a') as f:\n",
      "            # Get the last two panels from the cache\n",
      "            cache = f['panels']\n",
      "            cache.resize(self.it + iterations, axis=0)\n",
      "            u = cache[self.it - 2 : self.it][::-1]\n",
      "            if self.it == 2:\n",
      "                for pos, src in self.sources:\n",
      "                    i, j = pos\n",
      "                    u[1, i, j] += src(self.dt)\n",
      "            # The size of the progress status bar\n",
      "            places = 50\n",
      "            self.stream.write(''.join(['|', '-'*places, '|', '  0%']))\n",
      "            self.stream.flush()\n",
      "            nprinted = 0\n",
      "            for iteration in xrange(iterations):\n",
      "                t, tm1 = iteration%2, (iteration + 1)%2\n",
      "                tp1 = tm1\n",
      "                wavefd._step_scalar(u[tp1], u[t], u[tm1], 2, nx - 2, 2, nz - 2, self.dt, self.spacing, self.velocity)\n",
      "                wavefd._apply_damping(u[t], nx, nz, self.padding, self.taper)\n",
      "                wavefd._reflexive_scalar_boundary_conditions(u[tp1], nx, nz)\n",
      "                wavefd._apply_damping(u[tp1], nx, nz, self.padding, self.taper)\n",
      "                for pos, src in self.sources:\n",
      "                    i, j = pos\n",
      "                    u[tp1, i, j] += src((self.it + iteration)*self.dt)\n",
      "                cache[self.it + iteration] = u[tp1]\n",
      "                # Update the status bar\n",
      "                percent = int(round(100*(iteration + 1)/iterations))\n",
      "                n = int(round(0.01*percent*places))\n",
      "                if n > nprinted:\n",
      "                    self.stream.write(''.join(['\\r|', '#'*n, '-'*(places - n), '|', '%3d%s' % (percent, '%')]))\n",
      "                    self.stream.flush()\n",
      "                    nprinted = n\n",
      "            self.it += iterations\n",
      "            # Make sure the progress bar ends in 100 percent\n",
      "            self.stream.write(''.join(['\\r|', '#'*places, '|', '100%']))\n",
      "            self.stream.flush()\n",
      "        \n",
      "    def animate(self, every=1, ranges=[-1e-5, 1e-5], ax=None, **kwargs):\n",
      "        with h5py.File(self.cachefile, 'r') as f:\n",
      "            cache = f['panels']\n",
      "            if ax is None:\n",
      "                mpl.figure()\n",
      "                ax = mpl.subplot(1, 1, 1)\n",
      "            wavefield = mpl.imshow(np.zeros(self.shape), vmin=ranges[0], vmax=ranges[1], cmap=mpl.cm.seismic)\n",
      "            frames = (self.it - 1)/every\n",
      "            def plot(i, cache=cache):\n",
      "                ax.set_title(i*every)\n",
      "                u = cache[i*every]\n",
      "                wavefield.set_array(u)\n",
      "                return wavefield, cache\n",
      "            anim = animation.FuncAnimation(ax.get_figure(), plot, frames=frames, **kwargs)\n",
      "            mpl.show()\n",
      "        return anim"
     ],
     "language": "python",
     "metadata": {},
     "outputs": [],
     "prompt_number": 4
    },
    {
     "cell_type": "code",
     "collapsed": false,
     "input": [
      "# Set the parameters of the finite difference grid\n",
      "ds = 10\n",
      "velocity = utils.fromimage('crooked-layer.png', ranges=[3500, 4500]).astype(np.float)\n",
      "shape = velocity.shape\n",
      "print('shape = {}\\narea = {}'.format(shape, [s*ds for s in shape]))"
     ],
     "language": "python",
     "metadata": {},
     "outputs": [
      {
       "output_type": "stream",
       "stream": "stdout",
       "text": [
        "shape = (500, 700)\n",
        "area = [5000, 7000]\n"
       ]
      }
     ],
     "prompt_number": 5
    },
    {
     "cell_type": "code",
     "collapsed": false,
     "input": [
      "sim = Scalar2D(velocity, ds, padding=50, taper=0.005, cachefile='/home/leo/tmp/scalar2d-cache.hdf5')\n",
      "sim.add_point_source((0, 90), Ricker(5, 30, 0.1))"
     ],
     "language": "python",
     "metadata": {},
     "outputs": [],
     "prompt_number": 6
    },
    {
     "cell_type": "code",
     "collapsed": false,
     "input": [
      "sim.run(300)\n",
      "sim.it"
     ],
     "language": "python",
     "metadata": {},
     "outputs": [
      {
       "output_type": "stream",
       "stream": "stderr",
       "text": [
        "|--------------------------------------------------|  0%"
       ]
      },
      {
       "output_type": "stream",
       "stream": "stderr",
       "text": [
        "\r",
        "|#-------------------------------------------------|  1%"
       ]
      },
      {
       "output_type": "stream",
       "stream": "stderr",
       "text": [
        "\r",
        "|##------------------------------------------------|  3%"
       ]
      },
      {
       "output_type": "stream",
       "stream": "stderr",
       "text": [
        "\r",
        "|###-----------------------------------------------|  5%"
       ]
      },
      {
       "output_type": "stream",
       "stream": "stderr",
       "text": [
        "\r",
        "|####----------------------------------------------|  7%"
       ]
      },
      {
       "output_type": "stream",
       "stream": "stderr",
       "text": [
        "\r",
        "|#####---------------------------------------------|  9%"
       ]
      },
      {
       "output_type": "stream",
       "stream": "stderr",
       "text": [
        "\r",
        "|######--------------------------------------------| 11%"
       ]
      },
      {
       "output_type": "stream",
       "stream": "stderr",
       "text": [
        "\r",
        "|#######-------------------------------------------| 13%"
       ]
      },
      {
       "output_type": "stream",
       "stream": "stderr",
       "text": [
        "\r",
        "|########------------------------------------------| 15%"
       ]
      },
      {
       "output_type": "stream",
       "stream": "stderr",
       "text": [
        "\r",
        "|#########-----------------------------------------| 17%"
       ]
      },
      {
       "output_type": "stream",
       "stream": "stderr",
       "text": [
        "\r",
        "|##########----------------------------------------| 19%"
       ]
      },
      {
       "output_type": "stream",
       "stream": "stderr",
       "text": [
        "\r",
        "|###########---------------------------------------| 21%"
       ]
      },
      {
       "output_type": "stream",
       "stream": "stderr",
       "text": [
        "\r",
        "|############--------------------------------------| 23%"
       ]
      },
      {
       "output_type": "stream",
       "stream": "stderr",
       "text": [
        "\r",
        "|#############-------------------------------------| 25%"
       ]
      },
      {
       "output_type": "stream",
       "stream": "stderr",
       "text": [
        "\r",
        "|##############------------------------------------| 27%"
       ]
      },
      {
       "output_type": "stream",
       "stream": "stderr",
       "text": [
        "\r",
        "|###############-----------------------------------| 30%"
       ]
      },
      {
       "output_type": "stream",
       "stream": "stderr",
       "text": [
        "\r",
        "|################----------------------------------| 31%"
       ]
      },
      {
       "output_type": "stream",
       "stream": "stderr",
       "text": [
        "\r",
        "|#################---------------------------------| 33%"
       ]
      },
      {
       "output_type": "stream",
       "stream": "stderr",
       "text": [
        "\r",
        "|##################--------------------------------| 35%"
       ]
      },
      {
       "output_type": "stream",
       "stream": "stderr",
       "text": [
        "\r",
        "|###################-------------------------------| 37%"
       ]
      },
      {
       "output_type": "stream",
       "stream": "stderr",
       "text": [
        "\r",
        "|####################------------------------------| 39%"
       ]
      },
      {
       "output_type": "stream",
       "stream": "stderr",
       "text": [
        "\r",
        "|#####################-----------------------------| 41%"
       ]
      },
      {
       "output_type": "stream",
       "stream": "stderr",
       "text": [
        "\r",
        "|######################----------------------------| 43%"
       ]
      },
      {
       "output_type": "stream",
       "stream": "stderr",
       "text": [
        "\r",
        "|#######################---------------------------| 45%"
       ]
      },
      {
       "output_type": "stream",
       "stream": "stderr",
       "text": [
        "\r",
        "|########################--------------------------| 47%"
       ]
      },
      {
       "output_type": "stream",
       "stream": "stderr",
       "text": [
        "\r",
        "|#########################-------------------------| 49%"
       ]
      },
      {
       "output_type": "stream",
       "stream": "stderr",
       "text": [
        "\r",
        "|##########################------------------------| 51%"
       ]
      },
      {
       "output_type": "stream",
       "stream": "stderr",
       "text": [
        "\r",
        "|###########################-----------------------| 53%"
       ]
      },
      {
       "output_type": "stream",
       "stream": "stderr",
       "text": [
        "\r",
        "|############################----------------------| 55%"
       ]
      },
      {
       "output_type": "stream",
       "stream": "stderr",
       "text": [
        "\r",
        "|#############################---------------------| 57%"
       ]
      },
      {
       "output_type": "stream",
       "stream": "stderr",
       "text": [
        "\r",
        "|##############################--------------------| 59%"
       ]
      },
      {
       "output_type": "stream",
       "stream": "stderr",
       "text": [
        "\r",
        "|###############################-------------------| 61%"
       ]
      },
      {
       "output_type": "stream",
       "stream": "stderr",
       "text": [
        "\r",
        "|################################------------------| 63%"
       ]
      },
      {
       "output_type": "stream",
       "stream": "stderr",
       "text": [
        "\r",
        "|#################################-----------------| 65%"
       ]
      },
      {
       "output_type": "stream",
       "stream": "stderr",
       "text": [
        "\r",
        "|##################################----------------| 67%"
       ]
      },
      {
       "output_type": "stream",
       "stream": "stderr",
       "text": [
        "\r",
        "|###################################---------------| 69%"
       ]
      },
      {
       "output_type": "stream",
       "stream": "stderr",
       "text": [
        "\r",
        "|####################################--------------| 71%"
       ]
      },
      {
       "output_type": "stream",
       "stream": "stderr",
       "text": [
        "\r",
        "|#####################################-------------| 73%"
       ]
      },
      {
       "output_type": "stream",
       "stream": "stderr",
       "text": [
        "\r",
        "|######################################------------| 75%"
       ]
      },
      {
       "output_type": "stream",
       "stream": "stderr",
       "text": [
        "\r",
        "|#######################################-----------| 77%"
       ]
      },
      {
       "output_type": "stream",
       "stream": "stderr",
       "text": [
        "\r",
        "|########################################----------| 79%"
       ]
      },
      {
       "output_type": "stream",
       "stream": "stderr",
       "text": [
        "\r",
        "|#########################################---------| 81%"
       ]
      },
      {
       "output_type": "stream",
       "stream": "stderr",
       "text": [
        "\r",
        "|##########################################--------| 83%"
       ]
      },
      {
       "output_type": "stream",
       "stream": "stderr",
       "text": [
        "\r",
        "|###########################################-------| 85%"
       ]
      },
      {
       "output_type": "stream",
       "stream": "stderr",
       "text": [
        "\r",
        "|############################################------| 87%"
       ]
      },
      {
       "output_type": "stream",
       "stream": "stderr",
       "text": [
        "\r",
        "|#############################################-----| 89%"
       ]
      },
      {
       "output_type": "stream",
       "stream": "stderr",
       "text": [
        "\r",
        "|##############################################----| 91%"
       ]
      },
      {
       "output_type": "stream",
       "stream": "stderr",
       "text": [
        "\r",
        "|###############################################---| 93%"
       ]
      },
      {
       "output_type": "stream",
       "stream": "stderr",
       "text": [
        "\r",
        "|################################################--| 95%"
       ]
      },
      {
       "output_type": "stream",
       "stream": "stderr",
       "text": [
        "\r",
        "|#################################################-| 97%"
       ]
      },
      {
       "output_type": "stream",
       "stream": "stderr",
       "text": [
        "\r",
        "|##################################################| 99%"
       ]
      },
      {
       "output_type": "stream",
       "stream": "stderr",
       "text": [
        "\r",
        "|##################################################|100%"
       ]
      },
      {
       "metadata": {},
       "output_type": "pyout",
       "prompt_number": 8,
       "text": [
        "302"
       ]
      }
     ],
     "prompt_number": 8
    },
    {
     "cell_type": "code",
     "collapsed": false,
     "input": [
      "mpl.figure()\n",
      "ax = mpl.subplot(111)\n",
      "a = mpl.imshow(np.ma.masked_array(velocity, velocity < 0.95*velocity.max()), cmap=mpl.cm.gray_r, alpha=0.5)\n",
      "a.zorder = 1000\n",
      "ax.axison = False\n",
      "mpl.subplots_adjust(top=1, bottom=0, right=1, left=0)\n",
      "\n",
      "sim.animate(every=50, ranges=[-1e-2, 1e-2], interval=100, ax=ax)"
     ],
     "language": "python",
     "metadata": {},
     "outputs": [
      {
       "metadata": {},
       "output_type": "pyout",
       "prompt_number": 13,
       "text": [
        "<matplotlib.animation.FuncAnimation at 0x7fcc55a9d510>"
       ]
      }
     ],
     "prompt_number": 13
    },
    {
     "cell_type": "code",
     "collapsed": false,
     "input": [
      "other = Scalar2D.from_cache('/home/leo/tmp/scalar2d-cache.hdf5')"
     ],
     "language": "python",
     "metadata": {},
     "outputs": [],
     "prompt_number": 10
    },
    {
     "cell_type": "code",
     "collapsed": false,
     "input": [
      "mpl.figure()\n",
      "ax = mpl.subplot(111)\n",
      "a = mpl.imshow(np.ma.masked_array(velocity, velocity < 0.95*velocity.max()), cmap=mpl.cm.gray_r, alpha=0.5)\n",
      "a.zorder = 1000\n",
      "ax.axison = False\n",
      "mpl.subplots_adjust(top=1, bottom=0, right=1, left=0)\n",
      "\n",
      "other.animate(every=50, ranges=[-1e-2, 1e-2], interval=100, ax=ax)"
     ],
     "language": "python",
     "metadata": {},
     "outputs": [
      {
       "metadata": {},
       "output_type": "pyout",
       "prompt_number": 14,
       "text": [
        "<matplotlib.animation.FuncAnimation at 0x7fcc558baf90>"
       ]
      }
     ],
     "prompt_number": 14
    },
    {
     "cell_type": "code",
     "collapsed": false,
     "input": [
      "class ElasticPSV(object):\n",
      "    def __init__(self, pvel, svel, density, spacing, dt=None, padding=50, taper=0.007, cachefile='elasticpsv-cache.h5'):\n",
      "        self.pvel = pvel\n",
      "        self.svel = svel\n",
      "        self.density = density\n",
      "        self.mu = wavefd.lame_mu(svel, density)\n",
      "        self.lamb = wavefd.lame_lamb(pvel, svel, density)\n",
      "        self.spacing = spacing\n",
      "        self.shape = pvel.shape\n",
      "        nz, nx = self.shape\n",
      "        if dt is None:\n",
      "            self.dt = 0.6*wavefd.maxdt([0, nx*spacing, 0, nz*spacing], self.shape, pvel.max())\n",
      "        else:\n",
      "            self.dt = dt\n",
      "        self.sources = []\n",
      "        self.padding = padding\n",
      "        self.taper = taper\n",
      "        self.stream = sys.stderr\n",
      "        self.cachefile = cachefile\n",
      "        self.it = 0\n",
      "    \n",
      "    @staticmethod\n",
      "    def from_cache(fname):\n",
      "        with h5py.File(fname, 'r') as f:\n",
      "            sim = ElasticPSV(f['pvel'][:], f['svel'][:], f['density'][:], f['spacing'].value, \n",
      "                            dt=f['dt'].value, padding=f['padding'].value,\n",
      "                            taper=f['taper'].value, cachefile=fname)\n",
      "            sim.it = f['xpanels'].shape[0]\n",
      "        return sim\n",
      "            \n",
      "    def add_blast_source(self, position, wavelet):\n",
      "        nz, nx = self.shape\n",
      "        i, j = position\n",
      "        tmp = np.sqrt(2)\n",
      "        locations = [[i - 1, j - 1, -1, -1], \n",
      "                     [i - 1, j, 0, -tmp], \n",
      "                     [i - 1,j + 1, 1, -1],\n",
      "                     [i, j - 1, -tmp, 0],\n",
      "                     [i, j + 1, tmp, 0],\n",
      "                     [i + 1, j - 1, -1, 1], \n",
      "                     [i + 1, j, 0, tmp], \n",
      "                     [i + 1, j + 1, 1, 1]]        \n",
      "        for k, l, xamp, zamp in locations:\n",
      "            if k >= 0 and k < nz and l >= 0 and l < nx:\n",
      "                self.sources.append([[k, l], xamp*wavelet, zamp*wavelet])        \n",
      "        \n",
      "    def add_point_source(self, position, xwavelet, zwavelet):\n",
      "        self.sources.append([position, xwavelet, zwavelet])\n",
      "        \n",
      "    def run(self, iterations):\n",
      "        nz, nx = self.shape\n",
      "        # Initialize the cache on the first run\n",
      "        if self.it == 0:\n",
      "            with h5py.File(self.cachefile, 'w') as f:\n",
      "                f.create_dataset('xpanels', tuple([2] + list(self.shape)), \n",
      "                                 maxshape=tuple([None] + list(self.shape)), dtype=np.float)\n",
      "                f.create_dataset('zpanels', tuple([2] + list(self.shape)), \n",
      "                                 maxshape=tuple([None] + list(self.shape)), dtype=np.float)\n",
      "                f.create_dataset('pvel', data=self.pvel)\n",
      "                f.create_dataset('svel', data=self.svel)\n",
      "                f.create_dataset('density', data=self.density)\n",
      "                f.create_dataset('spacing', data=self.spacing)\n",
      "                f.create_dataset('dt', data=self.dt)\n",
      "                f.create_dataset('padding', data=self.padding)\n",
      "                f.create_dataset('taper', data=self.taper)       \n",
      "            self.it = 2\n",
      "            iterations -= 2\n",
      "        with h5py.File(self.cachefile, 'a') as f:\n",
      "            # Get the last two panels from the cache\n",
      "            xcache = f['xpanels']\n",
      "            xcache.resize(self.it + iterations, axis=0)\n",
      "            zcache = f['zpanels']\n",
      "            zcache.resize(self.it + iterations, axis=0)\n",
      "            ux = np.copy(xcache[self.it - 2 : self.it][::-1], order='C')\n",
      "            uz = np.copy(zcache[self.it - 2 : self.it][::-1], order='C')\n",
      "            # Pre-compute the matrices required for the free-surface BC\n",
      "            dzdx = 1\n",
      "            identity = scipy.sparse.identity(nx)\n",
      "            B = scipy.sparse.eye(nx, nx, k=1) - scipy.sparse.eye(nx, nx, k=-1)\n",
      "            gamma = scipy.sparse.spdiags(self.lamb[0]/(self.lamb[0] + 2*self.mu[0]), [0], nx, nx)\n",
      "            Mx1 = identity - 0.0625*(dzdx**2)*B*gamma*B\n",
      "            Mx2 = identity + 0.0625*(dzdx**2)*B*gamma*B\n",
      "            Mx3 = 0.5*dzdx*B\n",
      "            Mz1 = identity - 0.0625*(dzdx**2)*gamma*B*B\n",
      "            Mz2 = identity + 0.0625*(dzdx**2)*gamma*B*B\n",
      "            Mz3 = 0.5*dzdx*gamma*B\n",
      "            # Initialize the sources if this is the first run\n",
      "            if self.it == 2:\n",
      "                for pos, xsrc, zsrc in self.sources:\n",
      "                    i, j = pos\n",
      "                    ux[1, i, j] += xsrc(self.dt)\n",
      "                    uz[1, i, j] += zsrc(self.dt)\n",
      "            # The size of the progress status bar\n",
      "            places = 50\n",
      "            self.stream.write(''.join(['|', '-'*places, '|', '  0%']))\n",
      "            self.stream.flush()\n",
      "            nprinted = 0\n",
      "            for iteration in xrange(iterations):\n",
      "                t, tm1 = iteration%2, (iteration + 1)%2\n",
      "                tp1 = tm1\n",
      "                wavefd._step_elastic_psv(ux, uz, tp1, t, tm1, 1, nx - 1,  1, nz - 1, self.dt, self.spacing, self.spacing, \n",
      "                                         self.mu, self.lamb, self.density)\n",
      "                wavefd._apply_damping(ux[t], nx, nz, self.padding, self.taper)\n",
      "                wavefd._apply_damping(uz[t], nx, nz, self.padding, self.taper)\n",
      "                # Free-surface boundary conditions\n",
      "                ux[tp1,0,:] = scipy.sparse.linalg.spsolve(Mx1, Mx2*ux[tp1,1,:] + Mx3*uz[tp1,1,:])\n",
      "                uz[tp1,0,:] = scipy.sparse.linalg.spsolve(Mz1, Mz2*uz[tp1,1,:] + Mz3*ux[tp1,1,:])\n",
      "                wavefd._nonreflexive_psv_boundary_conditions(ux, uz, tp1, t, tm1, nx, nz, self.dt, self.spacing, self.spacing,\n",
      "                                                             self.mu, self.lamb, self.density)\n",
      "                wavefd._apply_damping(ux[tp1], nx, nz, self.padding, self.taper)\n",
      "                wavefd._apply_damping(uz[tp1], nx, nz, self.padding, self.taper)\n",
      "                for pos, xsrc, zsrc in self.sources:\n",
      "                    i, j = pos\n",
      "                    ux[tp1, i, j] += xsrc((self.it + iteration)*self.dt)\n",
      "                    uz[tp1, i, j] += zsrc((self.it + iteration)*self.dt)\n",
      "                # Store the panels in the cache\n",
      "                xcache[self.it + iteration] = ux[tp1]\n",
      "                zcache[self.it + iteration] = uz[tp1]\n",
      "                # Update the status bar\n",
      "                percent = int(round(100*(iteration + 1)/iterations))\n",
      "                n = int(round(0.01*percent*places))\n",
      "                if n > nprinted:\n",
      "                    self.stream.write(''.join(['\\r|', '#'*n, '-'*(places - n), '|', '%3d%s' % (percent, '%')]))\n",
      "                    self.stream.flush()\n",
      "                    nprinted = n\n",
      "            self.it += iterations\n",
      "            # Make sure the progress bar ends in 100 percent\n",
      "            self.stream.write(''.join(['\\r|', '#'*places, '|', '100%']))\n",
      "            self.stream.flush()\n",
      "        \n",
      "    def animate_wavefield(self, every=1, ranges=[-1e-5, 1e-5], ax=None, **kwargs):\n",
      "        with h5py.File(self.cachefile, 'r') as f:\n",
      "            xcache = f['xpanels']\n",
      "            zcache = f['zpanels']\n",
      "            p, s = np.empty(self.shape, dtype=np.float), np.empty(self.shape, dtype=np.float)\n",
      "            nz, nx = self.shape\n",
      "            if ax is None:\n",
      "                mpl.figure()\n",
      "                ax = mpl.subplot(1, 1, 1)\n",
      "            wavefield = mpl.imshow(np.zeros(self.shape), vmin=ranges[0], vmax=ranges[1], cmap=mpl.cm.seismic)\n",
      "            frames = (self.it - 1)/every\n",
      "            def plot(i, xcache=xcache, zcache=zcache):\n",
      "                ax.set_title(i*every)\n",
      "                ux = xcache[i*every]\n",
      "                uz = zcache[i*every]\n",
      "                wavefd._xz2ps(ux, uz, p, s, nx, nz, self.spacing, self.spacing)\n",
      "                wavefield.set_array(p + s)\n",
      "                return wavefield, xcache, zcache\n",
      "            anim = animation.FuncAnimation(ax.get_figure(), plot, frames=frames, **kwargs)\n",
      "            mpl.show()\n",
      "        return anim\n",
      "    \n",
      "    def animate_particles(self, every=1, scale=1, downsample=1, style='.k', markersize=1, ax=None, **kwargs):\n",
      "        with h5py.File(self.cachefile, 'r') as f:\n",
      "            xcache = f['xpanels']\n",
      "            zcache = f['zpanels']\n",
      "            nz, nx = self.shape\n",
      "            dx, dz = nx*self.spacing, nz*self.spacing\n",
      "            x, z = [i[::downsample, ::downsample].ravel() \n",
      "                    for i in np.meshgrid(np.linspace(0, dx, nx), \n",
      "                                         np.linspace(0, dz, nz))]\n",
      "            if ax is None:\n",
      "                mpl.figure()\n",
      "                ax = mpl.subplot(1, 1, 1)\n",
      "                mpl.set_xlim(0, dx)\n",
      "                mpl.set_ylim(0, dz)\n",
      "                ax.invert_yaxis()\n",
      "            particles, = mpl.plot(x, z, style, markersize=markersize)\n",
      "            frames = (self.it - 1)/every\n",
      "            def plot(i, xcache=xcache, zcache=zcache):\n",
      "                ax.set_title(i*every)\n",
      "                ux = xcache[i*every][::downsample, ::downsample].ravel()\n",
      "                uz = zcache[i*every][::downsample, ::downsample].ravel()\n",
      "                particles.set_data(x + scale*ux, z + scale*uz)\n",
      "                return particles, xcache, zcache\n",
      "            anim = animation.FuncAnimation(ax.get_figure(), plot, frames=frames, **kwargs)\n",
      "            mpl.show()\n",
      "        return anim"
     ],
     "language": "python",
     "metadata": {},
     "outputs": [],
     "prompt_number": 81
    },
    {
     "cell_type": "code",
     "collapsed": false,
     "input": [
      "# Set the parameters of the finite difference grid\n",
      "ds = 10\n",
      "pvel = utils.fromimage('crooked-layer.png', ranges=[3000, 4000]).astype(np.float)\n",
      "svel = utils.fromimage('crooked-layer.png', ranges=[2500, 3500]).astype(np.float)\n",
      "density = utils.fromimage('crooked-layer.png', ranges=[2200, 2500]).astype(np.float)\n",
      "shape = velocity.shape\n",
      "print('shape = {}\\narea = {}'.format(shape, [s*ds for s in shape]))"
     ],
     "language": "python",
     "metadata": {},
     "outputs": [
      {
       "output_type": "stream",
       "stream": "stdout",
       "text": [
        "shape = (500, 700)\n",
        "area = [5000, 7000]\n"
       ]
      }
     ],
     "prompt_number": 82
    },
    {
     "cell_type": "code",
     "collapsed": false,
     "input": [
      "sim = ElasticPSV(pvel, svel, density, ds, padding=50, taper=0.005, cachefile='/home/leo/tmp/elasticpsv2-cache.h5')\n",
      "sim.add_blast_source((50, 90), Ricker(5, 15, 0.05))"
     ],
     "language": "python",
     "metadata": {},
     "outputs": [],
     "prompt_number": 10
    },
    {
     "cell_type": "code",
     "collapsed": false,
     "input": [
      "sim.run(500)\n",
      "sim.it"
     ],
     "language": "python",
     "metadata": {},
     "outputs": [
      {
       "output_type": "stream",
       "stream": "stderr",
       "text": [
        "|--------------------------------------------------|  0%"
       ]
      },
      {
       "output_type": "stream",
       "stream": "stderr",
       "text": [
        "\r",
        "|#-------------------------------------------------|  1%"
       ]
      },
      {
       "output_type": "stream",
       "stream": "stderr",
       "text": [
        "\r",
        "|##------------------------------------------------|  3%"
       ]
      },
      {
       "output_type": "stream",
       "stream": "stderr",
       "text": [
        "\r",
        "|###-----------------------------------------------|  5%"
       ]
      },
      {
       "output_type": "stream",
       "stream": "stderr",
       "text": [
        "\r",
        "|####----------------------------------------------|  7%"
       ]
      },
      {
       "output_type": "stream",
       "stream": "stderr",
       "text": [
        "\r",
        "|#####---------------------------------------------|  9%"
       ]
      },
      {
       "output_type": "stream",
       "stream": "stderr",
       "text": [
        "\r",
        "|######--------------------------------------------| 11%"
       ]
      },
      {
       "output_type": "stream",
       "stream": "stderr",
       "text": [
        "\r",
        "|#######-------------------------------------------| 13%"
       ]
      },
      {
       "output_type": "stream",
       "stream": "stderr",
       "text": [
        "\r",
        "|########------------------------------------------| 15%"
       ]
      },
      {
       "output_type": "stream",
       "stream": "stderr",
       "text": [
        "\r",
        "|#########-----------------------------------------| 17%"
       ]
      },
      {
       "output_type": "stream",
       "stream": "stderr",
       "text": [
        "\r",
        "|##########----------------------------------------| 19%"
       ]
      },
      {
       "output_type": "stream",
       "stream": "stderr",
       "text": [
        "\r",
        "|###########---------------------------------------| 21%"
       ]
      },
      {
       "output_type": "stream",
       "stream": "stderr",
       "text": [
        "\r",
        "|############--------------------------------------| 23%"
       ]
      },
      {
       "output_type": "stream",
       "stream": "stderr",
       "text": [
        "\r",
        "|#############-------------------------------------| 25%"
       ]
      },
      {
       "output_type": "stream",
       "stream": "stderr",
       "text": [
        "\r",
        "|##############------------------------------------| 27%"
       ]
      },
      {
       "output_type": "stream",
       "stream": "stderr",
       "text": [
        "\r",
        "|###############-----------------------------------| 30%"
       ]
      },
      {
       "output_type": "stream",
       "stream": "stderr",
       "text": [
        "\r",
        "|################----------------------------------| 31%"
       ]
      },
      {
       "output_type": "stream",
       "stream": "stderr",
       "text": [
        "\r",
        "|#################---------------------------------| 33%"
       ]
      },
      {
       "output_type": "stream",
       "stream": "stderr",
       "text": [
        "\r",
        "|##################--------------------------------| 35%"
       ]
      },
      {
       "output_type": "stream",
       "stream": "stderr",
       "text": [
        "\r",
        "|###################-------------------------------| 37%"
       ]
      },
      {
       "output_type": "stream",
       "stream": "stderr",
       "text": [
        "\r",
        "|####################------------------------------| 39%"
       ]
      },
      {
       "output_type": "stream",
       "stream": "stderr",
       "text": [
        "\r",
        "|#####################-----------------------------| 41%"
       ]
      },
      {
       "output_type": "stream",
       "stream": "stderr",
       "text": [
        "\r",
        "|######################----------------------------| 43%"
       ]
      },
      {
       "output_type": "stream",
       "stream": "stderr",
       "text": [
        "\r",
        "|#######################---------------------------| 45%"
       ]
      },
      {
       "output_type": "stream",
       "stream": "stderr",
       "text": [
        "\r",
        "|########################--------------------------| 47%"
       ]
      },
      {
       "output_type": "stream",
       "stream": "stderr",
       "text": [
        "\r",
        "|#########################-------------------------| 49%"
       ]
      },
      {
       "output_type": "stream",
       "stream": "stderr",
       "text": [
        "\r",
        "|##########################------------------------| 51%"
       ]
      },
      {
       "output_type": "stream",
       "stream": "stderr",
       "text": [
        "\r",
        "|###########################-----------------------| 53%"
       ]
      },
      {
       "output_type": "stream",
       "stream": "stderr",
       "text": [
        "\r",
        "|############################----------------------| 55%"
       ]
      },
      {
       "output_type": "stream",
       "stream": "stderr",
       "text": [
        "\r",
        "|#############################---------------------| 57%"
       ]
      },
      {
       "output_type": "stream",
       "stream": "stderr",
       "text": [
        "\r",
        "|##############################--------------------| 59%"
       ]
      },
      {
       "output_type": "stream",
       "stream": "stderr",
       "text": [
        "\r",
        "|###############################-------------------| 61%"
       ]
      },
      {
       "output_type": "stream",
       "stream": "stderr",
       "text": [
        "\r",
        "|################################------------------| 63%"
       ]
      },
      {
       "output_type": "stream",
       "stream": "stderr",
       "text": [
        "\r",
        "|#################################-----------------| 65%"
       ]
      },
      {
       "output_type": "stream",
       "stream": "stderr",
       "text": [
        "\r",
        "|##################################----------------| 67%"
       ]
      },
      {
       "output_type": "stream",
       "stream": "stderr",
       "text": [
        "\r",
        "|###################################---------------| 69%"
       ]
      },
      {
       "output_type": "stream",
       "stream": "stderr",
       "text": [
        "\r",
        "|####################################--------------| 71%"
       ]
      },
      {
       "output_type": "stream",
       "stream": "stderr",
       "text": [
        "\r",
        "|#####################################-------------| 73%"
       ]
      },
      {
       "output_type": "stream",
       "stream": "stderr",
       "text": [
        "\r",
        "|######################################------------| 75%"
       ]
      },
      {
       "output_type": "stream",
       "stream": "stderr",
       "text": [
        "\r",
        "|#######################################-----------| 77%"
       ]
      },
      {
       "output_type": "stream",
       "stream": "stderr",
       "text": [
        "\r",
        "|########################################----------| 79%"
       ]
      },
      {
       "output_type": "stream",
       "stream": "stderr",
       "text": [
        "\r",
        "|#########################################---------| 81%"
       ]
      },
      {
       "output_type": "stream",
       "stream": "stderr",
       "text": [
        "\r",
        "|##########################################--------| 83%"
       ]
      },
      {
       "output_type": "stream",
       "stream": "stderr",
       "text": [
        "\r",
        "|###########################################-------| 85%"
       ]
      },
      {
       "output_type": "stream",
       "stream": "stderr",
       "text": [
        "\r",
        "|############################################------| 87%"
       ]
      },
      {
       "output_type": "stream",
       "stream": "stderr",
       "text": [
        "\r",
        "|#############################################-----| 89%"
       ]
      },
      {
       "output_type": "stream",
       "stream": "stderr",
       "text": [
        "\r",
        "|##############################################----| 91%"
       ]
      },
      {
       "output_type": "stream",
       "stream": "stderr",
       "text": [
        "\r",
        "|###############################################---| 93%"
       ]
      },
      {
       "output_type": "stream",
       "stream": "stderr",
       "text": [
        "\r",
        "|################################################--| 95%"
       ]
      },
      {
       "output_type": "stream",
       "stream": "stderr",
       "text": [
        "\r",
        "|#################################################-| 97%"
       ]
      },
      {
       "output_type": "stream",
       "stream": "stderr",
       "text": [
        "\r",
        "|##################################################| 99%"
       ]
      },
      {
       "output_type": "stream",
       "stream": "stderr",
       "text": [
        "\r",
        "|##################################################|100%"
       ]
      },
      {
       "metadata": {},
       "output_type": "pyout",
       "prompt_number": 11,
       "text": [
        "500"
       ]
      }
     ],
     "prompt_number": 11
    },
    {
     "cell_type": "code",
     "collapsed": false,
     "input": [
      "sim = ElasticPSV.from_cache('/home/leo/tmp/elasticpsv2-cache.h5')"
     ],
     "language": "python",
     "metadata": {},
     "outputs": [],
     "prompt_number": 60
    },
    {
     "cell_type": "code",
     "collapsed": false,
     "input": [
      "mpl.figure()\n",
      "ax = mpl.subplot(111)\n",
      "a = mpl.imshow(np.ma.masked_array(pvel, pvel < 0.95*pvel.max()), cmap=mpl.cm.gray_r, alpha=0.5)\n",
      "a.zorder = 1000\n",
      "ax.axison = False\n",
      "mpl.subplots_adjust(top=1, bottom=0, right=1, left=0)\n",
      "\n",
      "sim.animate_wavefield(every=10, ranges=[-1e-1, 1e-1], interval=50, ax=ax)"
     ],
     "language": "python",
     "metadata": {},
     "outputs": [
      {
       "metadata": {},
       "output_type": "pyout",
       "prompt_number": 61,
       "text": [
        "<matplotlib.animation.FuncAnimation at 0x7fa33e996610>"
       ]
      }
     ],
     "prompt_number": 61
    },
    {
     "cell_type": "code",
     "collapsed": false,
     "input": [
      "mpl.figure(facecolor='white')\n",
      "area = [0, sim.spacing*sim.shape[1], 0, sim.spacing*sim.shape[0]]\n",
      "mpl.imshow(pvel, mpl.cm.gray_r, extent=area, alpha=0.5)\n",
      "mpl.set_area(area)\n",
      "ax = mpl.gca()\n",
      "ax.invert_yaxis()\n",
      "ax.axison = False\n",
      "mpl.tight_layout()\n",
      "mpl.subplots_adjust(top=1, bottom=0, right=1, left=0)\n",
      "\n",
      "sim.animate_particles(every=10, scale=5, markersize=1, downsample=4, ax=ax, interval=100)"
     ],
     "language": "python",
     "metadata": {},
     "outputs": [
      {
       "metadata": {},
       "output_type": "pyout",
       "prompt_number": 80,
       "text": [
        "<matplotlib.animation.FuncAnimation at 0x7fa33dfc4a50>"
       ]
      }
     ],
     "prompt_number": 80
    },
    {
     "cell_type": "code",
     "collapsed": false,
     "input": [],
     "language": "python",
     "metadata": {},
     "outputs": []
    }
   ],
   "metadata": {}
  }
 ]
}