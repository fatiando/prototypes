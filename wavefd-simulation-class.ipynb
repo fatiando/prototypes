{
 "metadata": {
  "name": "",
  "signature": "sha256:618bc800b868fba6281fc77cd51e429d3683abdb05bac4facd392c76fe1295f5"
 },
 "nbformat": 3,
 "nbformat_minor": 0,
 "worksheets": [
  {
   "cells": [
    {
     "cell_type": "code",
     "collapsed": false,
     "input": [
      "import numpy as np\n",
      "from matplotlib import animation\n",
      "from fatiando import utils\n",
      "from fatiando.seismic import wavefd\n",
      "from fatiando.gravmag import prism\n",
      "from fatiando.mesher import PrismMesh\n",
      "from fatiando.vis import mpl, myv\n",
      "import h5py"
     ],
     "language": "python",
     "metadata": {},
     "outputs": [],
     "prompt_number": 1
    },
    {
     "cell_type": "code",
     "collapsed": false,
     "input": [
      "# Set the parameters of the finite difference grid\n",
      "ds = 30\n",
      "velocity = utils.fromimage('scipy2014.png', ranges=[3500, 4500]).astype(np.float)\n",
      "density = utils.fromimage('scipy2014.png', ranges=[2200, 2500]).astype(np.float)\n",
      "shape = velocity.shape\n",
      "print shape"
     ],
     "language": "python",
     "metadata": {},
     "outputs": [
      {
       "output_type": "stream",
       "stream": "stdout",
       "text": [
        "(150, 600)\n"
       ]
      }
     ],
     "prompt_number": 2
    },
    {
     "cell_type": "code",
     "collapsed": false,
     "input": [
      "class Ricker(object):\n",
      "    def __init__(self, amp, cf, delay):\n",
      "        self.amp = amp\n",
      "        self.cf = cf\n",
      "        self.delay = delay\n",
      "        \n",
      "    def __call__(self, time):\n",
      "        t = (time - self.delay)\n",
      "        return self.amp*(1 - 2*(np.pi*self.cf*t)**2)*np.exp(-(np.pi*self.cf*t)**2)        "
     ],
     "language": "python",
     "metadata": {},
     "outputs": [],
     "prompt_number": 3
    },
    {
     "cell_type": "code",
     "collapsed": false,
     "input": [
      "def xz2ij(x, z, spacing, shape):\n",
      "    nz, nx = shape\n",
      "    i = int(round(z/spacing))\n",
      "    j = int(round(x/spacing))\n",
      "    return [i, j]"
     ],
     "language": "python",
     "metadata": {},
     "outputs": [],
     "prompt_number": 4
    },
    {
     "cell_type": "code",
     "collapsed": false,
     "input": [
      "class ElasticSH(object):\n",
      "    def __init__(self, velocity, density, spacing, padding, taper, cachefile='simulation.hdf5'):\n",
      "        self.density = density\n",
      "        self.spacing = spacing\n",
      "        self.mu = wavefd.lame_mu(velocity, density)\n",
      "        self.shape = self.mu.shape\n",
      "        nz, nx = self.shape\n",
      "        self.dt = 0.6*wavefd.maxdt([0, nx*spacing, 0, nz*spacing], self.shape, velocity.max())\n",
      "        self.sources = []\n",
      "        self.padding = padding\n",
      "        self.taper = taper\n",
      "        self.cachefile = cachefile\n",
      "        with h5py.File(cachefile, 'w') as f:\n",
      "            cache = f.create_dataset('panels', tuple([2] + list(self.shape)), \n",
      "                                     maxshape=tuple([None] + list(self.shape)), \n",
      "                                     dtype=np.float)\n",
      "        self.it = 2\n",
      "            \n",
      "    def add_source(self, position, wavelet):\n",
      "        self.sources.append([position, wavelet])\n",
      "        \n",
      "    def run(self, iterations, cached=True):\n",
      "        nz, nx = self.shape\n",
      "        dz, dx = self.spacing, self.spacing\n",
      "        f = h5py.File(self.cachefile, 'a')\n",
      "        try:\n",
      "            cache = f['panels']\n",
      "            cache.resize(self.it + iterations, axis=0)\n",
      "            # Pack the particle position u at 2 different times in one 3d array\n",
      "            # u[0] = u(t-1)\n",
      "            # u[1] = u(t)\n",
      "            # The next time step overwrites the t-1 panel\n",
      "            u = cache[self.it - 2 : self.it][::-1]\n",
      "            if self.it == 2:            \n",
      "                for pos, src in self.sources:\n",
      "                    i, j = pos\n",
      "                    u[1, i, j] += src(self.dt)\n",
      "            for iteration in xrange(iterations):\n",
      "                t, tm1 = iteration%2, (iteration + 1)%2\n",
      "                tp1 = tm1\n",
      "                wavefd._step_elastic_sh(u[tp1], u[t], u[tm1], 3, nx - 3, 3, nz - 3, self.dt, dx, dz, self.mu, self.density)\n",
      "                wavefd._apply_damping(u[t], nx, nz, self.padding, self.taper)\n",
      "                wavefd._nonreflexive_sh_boundary_conditions(u[tp1], u[t], nx, nz, self.dt, dx, dz, self.mu, self.density)\n",
      "                wavefd._apply_damping(u[tp1], nx, nz, self.padding, self.taper)\n",
      "                for pos, src in self.sources:\n",
      "                    i, j = pos\n",
      "                    u[tp1, i, j] += src((self.it + iteration)*self.dt)\n",
      "                cache[self.it + iteration] = u[tp1]\n",
      "            self.it += iterations \n",
      "            f.close()\n",
      "        except Exception as e:\n",
      "            f.close()\n",
      "            raise e\n",
      "        \n",
      "    def animate(self, every=1, ranges=[-1e-5, 1e-5], ax=None, **kwargs):\n",
      "        f = h5py.File(self.cachefile, 'r')\n",
      "        try:\n",
      "            cache = f['panels']\n",
      "            if ax is None:\n",
      "                mpl.figure()\n",
      "                ax = mpl.subplot(1, 1, 1)\n",
      "            wavefield = mpl.imshow(np.zeros(self.shape), vmin=ranges[0], vmax=ranges[1], cmap=mpl.cm.seismic)\n",
      "            frames = (self.it - 1)/every\n",
      "            def plot(i, cache=cache):\n",
      "                ax.set_title(i*every)\n",
      "                u = cache[i*every]\n",
      "                wavefield.set_array(u)\n",
      "                return wavefield, cache\n",
      "            anim = animation.FuncAnimation(ax.get_figure(), plot, frames=frames, **kwargs)\n",
      "            mpl.show()\n",
      "            f.close()\n",
      "        except Exception as e:\n",
      "            f.close()\n",
      "            raise e\n",
      "        return anim"
     ],
     "language": "python",
     "metadata": {},
     "outputs": [],
     "prompt_number": 18
    },
    {
     "cell_type": "code",
     "collapsed": false,
     "input": [
      "sim = ElasticSH(velocity, density, ds, padding=50, taper=0.007, cachefile='/home/leo/tmp/simulation.hdf5')\n",
      "sim.add_source((0, 90), Ricker(10, 10, 0.1))\n",
      "sim.add_source((0, 500), Ricker(10, 10, 0.1))"
     ],
     "language": "python",
     "metadata": {},
     "outputs": [],
     "prompt_number": 19
    },
    {
     "cell_type": "code",
     "collapsed": false,
     "input": [
      "sim.run(1000, cached=True)\n",
      "sim.it"
     ],
     "language": "python",
     "metadata": {},
     "outputs": [
      {
       "metadata": {},
       "output_type": "pyout",
       "prompt_number": 22,
       "text": [
        "1302"
       ]
      }
     ],
     "prompt_number": 22
    },
    {
     "cell_type": "code",
     "collapsed": false,
     "input": [
      "mpl.figure()\n",
      "ax = mpl.subplot(111)\n",
      "a = mpl.imshow(np.ma.masked_array(velocity, velocity < 0.95*velocity.max()), cmap=mpl.cm.gray_r, alpha=0.9)\n",
      "a.zorder = 1000\n",
      "ax.axison = False\n",
      "mpl.subplots_adjust(top=1, bottom=0, right=1, left=0)\n",
      "anim = sim.animate(every=20, ranges=[-1e-4, 1e-4], interval=100, ax=ax)"
     ],
     "language": "python",
     "metadata": {},
     "outputs": [],
     "prompt_number": 23
    },
    {
     "cell_type": "code",
     "collapsed": false,
     "input": [],
     "language": "python",
     "metadata": {},
     "outputs": []
    }
   ],
   "metadata": {}
  }
 ]
}